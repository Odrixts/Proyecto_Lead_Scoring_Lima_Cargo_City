{
 "cells": [
  {
   "cell_type": "markdown",
   "id": "d31dea65",
   "metadata": {},
   "source": [
    "# CALIDAD DE DATOS"
   ]
  },
  {
   "cell_type": "markdown",
   "id": "bdeb42e6",
   "metadata": {},
   "source": [
    "**IMPORTANTE**: Recuerda hacer una copia de esta plantilla para no machacar la original."
   ]
  },
  {
   "cell_type": "markdown",
   "id": "swiss-fault",
   "metadata": {},
   "source": [
    "## IMPORTAR PAQUETES"
   ]
  },
  {
   "cell_type": "code",
   "execution_count": 261,
   "id": "8cf1dedb",
   "metadata": {},
   "outputs": [],
   "source": [
    "import warnings\n",
    "warnings.filterwarnings(\"ignore\", category=DeprecationWarning)"
   ]
  },
  {
   "cell_type": "code",
   "execution_count": 262,
   "id": "adjacent-toddler",
   "metadata": {},
   "outputs": [],
   "source": [
    "import numpy as np\n",
    "import pandas as pd\n",
    "from janitor import clean_names\n",
    "\n",
    "#Automcompletar rápido\n",
    "%config IPCompleter.greedy=True"
   ]
  },
  {
   "cell_type": "markdown",
   "id": "graduate-compensation",
   "metadata": {},
   "source": [
    "## IMPORTAR LOS DATOS"
   ]
  },
  {
   "cell_type": "markdown",
   "id": "38bb812b",
   "metadata": {},
   "source": [
    "Sustituir la ruta del proyecto."
   ]
  },
  {
   "cell_type": "code",
   "execution_count": 263,
   "id": "28c63848",
   "metadata": {},
   "outputs": [],
   "source": [
    "ruta_proyecto = 'C:/Users/USER/Desktop/DSD4B (ZERO TO HERO)/03_MACHINE_LEARNING/08_CASOS/01_LEADSCORING'"
   ]
  },
  {
   "cell_type": "markdown",
   "id": "ba473b09",
   "metadata": {},
   "source": [
    "Sustituir el nombre_fichero_datos."
   ]
  },
  {
   "cell_type": "code",
   "execution_count": 264,
   "id": "5d9dc5ea",
   "metadata": {},
   "outputs": [],
   "source": [
    "nombre_fichero_datos = 'trabajo.csv'"
   ]
  },
  {
   "cell_type": "markdown",
   "id": "ae75bf0b",
   "metadata": {},
   "source": [
    "Cargar los datos."
   ]
  },
  {
   "cell_type": "code",
   "execution_count": 312,
   "id": "24ff453b",
   "metadata": {},
   "outputs": [
    {
     "data": {
      "text/html": [
       "<div>\n",
       "<style scoped>\n",
       "    .dataframe tbody tr th:only-of-type {\n",
       "        vertical-align: middle;\n",
       "    }\n",
       "\n",
       "    .dataframe tbody tr th {\n",
       "        vertical-align: top;\n",
       "    }\n",
       "\n",
       "    .dataframe thead th {\n",
       "        text-align: right;\n",
       "    }\n",
       "</style>\n",
       "<table border=\"1\" class=\"dataframe\">\n",
       "  <thead>\n",
       "    <tr style=\"text-align: right;\">\n",
       "      <th></th>\n",
       "      <th>origen</th>\n",
       "      <th>fuente</th>\n",
       "      <th>no_enviar_email</th>\n",
       "      <th>no_llamar</th>\n",
       "      <th>compra</th>\n",
       "      <th>visitas_total</th>\n",
       "      <th>tiempo_en_site_total</th>\n",
       "      <th>paginas_vistas_visita</th>\n",
       "      <th>ult_actividad</th>\n",
       "      <th>ambito</th>\n",
       "      <th>...</th>\n",
       "      <th>conociste_periodico</th>\n",
       "      <th>conociste_youtube</th>\n",
       "      <th>conociste_facebook</th>\n",
       "      <th>conociste_referencias</th>\n",
       "      <th>score_actividad</th>\n",
       "      <th>score_perfil</th>\n",
       "      <th>descarga_lm</th>\n",
       "      <th>fecha_interaccion</th>\n",
       "      <th>fecha_inicio_contrato</th>\n",
       "      <th>fecha_fin_contrato</th>\n",
       "    </tr>\n",
       "    <tr>\n",
       "      <th>id</th>\n",
       "      <th></th>\n",
       "      <th></th>\n",
       "      <th></th>\n",
       "      <th></th>\n",
       "      <th></th>\n",
       "      <th></th>\n",
       "      <th></th>\n",
       "      <th></th>\n",
       "      <th></th>\n",
       "      <th></th>\n",
       "      <th></th>\n",
       "      <th></th>\n",
       "      <th></th>\n",
       "      <th></th>\n",
       "      <th></th>\n",
       "      <th></th>\n",
       "      <th></th>\n",
       "      <th></th>\n",
       "      <th></th>\n",
       "      <th></th>\n",
       "      <th></th>\n",
       "    </tr>\n",
       "  </thead>\n",
       "  <tbody>\n",
       "    <tr>\n",
       "      <th>660737</th>\n",
       "      <td>API</td>\n",
       "      <td>Chat</td>\n",
       "      <td>No</td>\n",
       "      <td>No</td>\n",
       "      <td>0</td>\n",
       "      <td>0.0</td>\n",
       "      <td>0</td>\n",
       "      <td>0.0</td>\n",
       "      <td>Page Visited on Website</td>\n",
       "      <td>SG1A - Agentes de Carga</td>\n",
       "      <td>...</td>\n",
       "      <td>No</td>\n",
       "      <td>No</td>\n",
       "      <td>No</td>\n",
       "      <td>No</td>\n",
       "      <td>15.0</td>\n",
       "      <td>15.0</td>\n",
       "      <td>No</td>\n",
       "      <td>9/05/2021</td>\n",
       "      <td>NaN</td>\n",
       "      <td>NaN</td>\n",
       "    </tr>\n",
       "    <tr>\n",
       "      <th>660728</th>\n",
       "      <td>API</td>\n",
       "      <td>Organic Search</td>\n",
       "      <td>No</td>\n",
       "      <td>No</td>\n",
       "      <td>0</td>\n",
       "      <td>5.0</td>\n",
       "      <td>674</td>\n",
       "      <td>2.5</td>\n",
       "      <td>Email Opened</td>\n",
       "      <td>SG1A - Agentes de Carga</td>\n",
       "      <td>...</td>\n",
       "      <td>No</td>\n",
       "      <td>No</td>\n",
       "      <td>No</td>\n",
       "      <td>No</td>\n",
       "      <td>15.0</td>\n",
       "      <td>15.0</td>\n",
       "      <td>No</td>\n",
       "      <td>3/06/2022</td>\n",
       "      <td>NaN</td>\n",
       "      <td>NaN</td>\n",
       "    </tr>\n",
       "    <tr>\n",
       "      <th>660680</th>\n",
       "      <td>API</td>\n",
       "      <td>Chat</td>\n",
       "      <td>No</td>\n",
       "      <td>No</td>\n",
       "      <td>0</td>\n",
       "      <td>0.0</td>\n",
       "      <td>0</td>\n",
       "      <td>0.0</td>\n",
       "      <td>Chat Conversation</td>\n",
       "      <td>NaN</td>\n",
       "      <td>...</td>\n",
       "      <td>No</td>\n",
       "      <td>No</td>\n",
       "      <td>No</td>\n",
       "      <td>No</td>\n",
       "      <td>17.0</td>\n",
       "      <td>15.0</td>\n",
       "      <td>No</td>\n",
       "      <td>16/07/2020</td>\n",
       "      <td>NaN</td>\n",
       "      <td>NaN</td>\n",
       "    </tr>\n",
       "    <tr>\n",
       "      <th>660673</th>\n",
       "      <td>Landing Page Submission</td>\n",
       "      <td>Google</td>\n",
       "      <td>No</td>\n",
       "      <td>No</td>\n",
       "      <td>1</td>\n",
       "      <td>2.0</td>\n",
       "      <td>1640</td>\n",
       "      <td>2.0</td>\n",
       "      <td>Email Opened</td>\n",
       "      <td>SG2A - Importadores</td>\n",
       "      <td>...</td>\n",
       "      <td>No</td>\n",
       "      <td>No</td>\n",
       "      <td>No</td>\n",
       "      <td>No</td>\n",
       "      <td>14.0</td>\n",
       "      <td>20.0</td>\n",
       "      <td>No</td>\n",
       "      <td>11/09/2020</td>\n",
       "      <td>19/10/2020</td>\n",
       "      <td>14/06/2022</td>\n",
       "    </tr>\n",
       "    <tr>\n",
       "      <th>660562</th>\n",
       "      <td>API</td>\n",
       "      <td>Organic Search</td>\n",
       "      <td>No</td>\n",
       "      <td>No</td>\n",
       "      <td>1</td>\n",
       "      <td>11.0</td>\n",
       "      <td>1538</td>\n",
       "      <td>11.0</td>\n",
       "      <td>Email Opened</td>\n",
       "      <td>SG1A - Agentes de Carga</td>\n",
       "      <td>...</td>\n",
       "      <td>No</td>\n",
       "      <td>No</td>\n",
       "      <td>No</td>\n",
       "      <td>No</td>\n",
       "      <td>16.0</td>\n",
       "      <td>16.0</td>\n",
       "      <td>No</td>\n",
       "      <td>16/08/2022</td>\n",
       "      <td>5/11/2022</td>\n",
       "      <td>19/01/2024</td>\n",
       "    </tr>\n",
       "  </tbody>\n",
       "</table>\n",
       "<p>5 rows × 23 columns</p>\n",
       "</div>"
      ],
      "text/plain": [
       "                         origen          fuente no_enviar_email no_llamar  \\\n",
       "id                                                                          \n",
       "660737                      API            Chat              No        No   \n",
       "660728                      API  Organic Search              No        No   \n",
       "660680                      API            Chat              No        No   \n",
       "660673  Landing Page Submission          Google              No        No   \n",
       "660562                      API  Organic Search              No        No   \n",
       "\n",
       "        compra  visitas_total  tiempo_en_site_total  paginas_vistas_visita  \\\n",
       "id                                                                           \n",
       "660737       0            0.0                     0                    0.0   \n",
       "660728       0            5.0                   674                    2.5   \n",
       "660680       0            0.0                     0                    0.0   \n",
       "660673       1            2.0                  1640                    2.0   \n",
       "660562       1           11.0                  1538                   11.0   \n",
       "\n",
       "                  ult_actividad                   ambito  ...  \\\n",
       "id                                                        ...   \n",
       "660737  Page Visited on Website  SG1A - Agentes de Carga  ...   \n",
       "660728             Email Opened  SG1A - Agentes de Carga  ...   \n",
       "660680        Chat Conversation                      NaN  ...   \n",
       "660673             Email Opened      SG2A - Importadores  ...   \n",
       "660562             Email Opened  SG1A - Agentes de Carga  ...   \n",
       "\n",
       "       conociste_periodico conociste_youtube conociste_facebook  \\\n",
       "id                                                                \n",
       "660737                  No                No                 No   \n",
       "660728                  No                No                 No   \n",
       "660680                  No                No                 No   \n",
       "660673                  No                No                 No   \n",
       "660562                  No                No                 No   \n",
       "\n",
       "       conociste_referencias score_actividad score_perfil descarga_lm  \\\n",
       "id                                                                      \n",
       "660737                    No            15.0         15.0          No   \n",
       "660728                    No            15.0         15.0          No   \n",
       "660680                    No            17.0         15.0          No   \n",
       "660673                    No            14.0         20.0          No   \n",
       "660562                    No            16.0         16.0          No   \n",
       "\n",
       "        fecha_interaccion  fecha_inicio_contrato fecha_fin_contrato  \n",
       "id                                                                   \n",
       "660737          9/05/2021                    NaN                NaN  \n",
       "660728          3/06/2022                    NaN                NaN  \n",
       "660680         16/07/2020                    NaN                NaN  \n",
       "660673         11/09/2020             19/10/2020         14/06/2022  \n",
       "660562         16/08/2022              5/11/2022         19/01/2024  \n",
       "\n",
       "[5 rows x 23 columns]"
      ]
     },
     "execution_count": 312,
     "metadata": {},
     "output_type": "execute_result"
    }
   ],
   "source": [
    "ruta_completa = ruta_proyecto + '/02_Datos/03_Trabajo/' + nombre_fichero_datos\n",
    "\n",
    "df = pd.read_csv(ruta_completa,index_col='id',sep=',')\n",
    "df.head()"
   ]
  },
  {
   "cell_type": "markdown",
   "id": "d2d5443c",
   "metadata": {},
   "source": [
    "## VISIÓN GENERAL"
   ]
  },
  {
   "cell_type": "code",
   "execution_count": 266,
   "id": "6b2ac4d2",
   "metadata": {},
   "outputs": [
    {
     "data": {
      "text/html": [
       "<div>\n",
       "<style scoped>\n",
       "    .dataframe tbody tr th:only-of-type {\n",
       "        vertical-align: middle;\n",
       "    }\n",
       "\n",
       "    .dataframe tbody tr th {\n",
       "        vertical-align: top;\n",
       "    }\n",
       "\n",
       "    .dataframe thead th {\n",
       "        text-align: right;\n",
       "    }\n",
       "</style>\n",
       "<table border=\"1\" class=\"dataframe\">\n",
       "  <thead>\n",
       "    <tr style=\"text-align: right;\">\n",
       "      <th></th>\n",
       "      <th>origen</th>\n",
       "      <th>fuente</th>\n",
       "      <th>no_enviar_email</th>\n",
       "      <th>no_llamar</th>\n",
       "      <th>compra</th>\n",
       "      <th>visitas_total</th>\n",
       "      <th>tiempo_en_site_total</th>\n",
       "      <th>paginas_vistas_visita</th>\n",
       "      <th>ult_actividad</th>\n",
       "      <th>ambito</th>\n",
       "      <th>...</th>\n",
       "      <th>conociste_periodico</th>\n",
       "      <th>conociste_youtube</th>\n",
       "      <th>conociste_facebook</th>\n",
       "      <th>conociste_referencias</th>\n",
       "      <th>score_actividad</th>\n",
       "      <th>score_perfil</th>\n",
       "      <th>descarga_lm</th>\n",
       "      <th>fecha_interaccion</th>\n",
       "      <th>fecha_inicio_contrato</th>\n",
       "      <th>fecha_fin_contrato</th>\n",
       "    </tr>\n",
       "    <tr>\n",
       "      <th>id</th>\n",
       "      <th></th>\n",
       "      <th></th>\n",
       "      <th></th>\n",
       "      <th></th>\n",
       "      <th></th>\n",
       "      <th></th>\n",
       "      <th></th>\n",
       "      <th></th>\n",
       "      <th></th>\n",
       "      <th></th>\n",
       "      <th></th>\n",
       "      <th></th>\n",
       "      <th></th>\n",
       "      <th></th>\n",
       "      <th></th>\n",
       "      <th></th>\n",
       "      <th></th>\n",
       "      <th></th>\n",
       "      <th></th>\n",
       "      <th></th>\n",
       "      <th></th>\n",
       "    </tr>\n",
       "  </thead>\n",
       "  <tbody>\n",
       "    <tr>\n",
       "      <th>660737</th>\n",
       "      <td>API</td>\n",
       "      <td>Chat</td>\n",
       "      <td>No</td>\n",
       "      <td>No</td>\n",
       "      <td>0</td>\n",
       "      <td>0.0</td>\n",
       "      <td>0</td>\n",
       "      <td>0.0</td>\n",
       "      <td>Page Visited on Website</td>\n",
       "      <td>SG1A - Agentes de Carga</td>\n",
       "      <td>...</td>\n",
       "      <td>No</td>\n",
       "      <td>No</td>\n",
       "      <td>No</td>\n",
       "      <td>No</td>\n",
       "      <td>15.0</td>\n",
       "      <td>15.0</td>\n",
       "      <td>No</td>\n",
       "      <td>9/05/2021</td>\n",
       "      <td>NaN</td>\n",
       "      <td>NaN</td>\n",
       "    </tr>\n",
       "    <tr>\n",
       "      <th>660728</th>\n",
       "      <td>API</td>\n",
       "      <td>Organic Search</td>\n",
       "      <td>No</td>\n",
       "      <td>No</td>\n",
       "      <td>0</td>\n",
       "      <td>5.0</td>\n",
       "      <td>674</td>\n",
       "      <td>2.5</td>\n",
       "      <td>Email Opened</td>\n",
       "      <td>SG1A - Agentes de Carga</td>\n",
       "      <td>...</td>\n",
       "      <td>No</td>\n",
       "      <td>No</td>\n",
       "      <td>No</td>\n",
       "      <td>No</td>\n",
       "      <td>15.0</td>\n",
       "      <td>15.0</td>\n",
       "      <td>No</td>\n",
       "      <td>3/06/2022</td>\n",
       "      <td>NaN</td>\n",
       "      <td>NaN</td>\n",
       "    </tr>\n",
       "    <tr>\n",
       "      <th>660680</th>\n",
       "      <td>API</td>\n",
       "      <td>Chat</td>\n",
       "      <td>No</td>\n",
       "      <td>No</td>\n",
       "      <td>0</td>\n",
       "      <td>0.0</td>\n",
       "      <td>0</td>\n",
       "      <td>0.0</td>\n",
       "      <td>Chat Conversation</td>\n",
       "      <td>NaN</td>\n",
       "      <td>...</td>\n",
       "      <td>No</td>\n",
       "      <td>No</td>\n",
       "      <td>No</td>\n",
       "      <td>No</td>\n",
       "      <td>17.0</td>\n",
       "      <td>15.0</td>\n",
       "      <td>No</td>\n",
       "      <td>16/07/2020</td>\n",
       "      <td>NaN</td>\n",
       "      <td>NaN</td>\n",
       "    </tr>\n",
       "    <tr>\n",
       "      <th>660673</th>\n",
       "      <td>Landing Page Submission</td>\n",
       "      <td>Google</td>\n",
       "      <td>No</td>\n",
       "      <td>No</td>\n",
       "      <td>1</td>\n",
       "      <td>2.0</td>\n",
       "      <td>1640</td>\n",
       "      <td>2.0</td>\n",
       "      <td>Email Opened</td>\n",
       "      <td>SG2A - Importadores</td>\n",
       "      <td>...</td>\n",
       "      <td>No</td>\n",
       "      <td>No</td>\n",
       "      <td>No</td>\n",
       "      <td>No</td>\n",
       "      <td>14.0</td>\n",
       "      <td>20.0</td>\n",
       "      <td>No</td>\n",
       "      <td>11/09/2020</td>\n",
       "      <td>19/10/2020</td>\n",
       "      <td>14/06/2022</td>\n",
       "    </tr>\n",
       "    <tr>\n",
       "      <th>660562</th>\n",
       "      <td>API</td>\n",
       "      <td>Organic Search</td>\n",
       "      <td>No</td>\n",
       "      <td>No</td>\n",
       "      <td>1</td>\n",
       "      <td>11.0</td>\n",
       "      <td>1538</td>\n",
       "      <td>11.0</td>\n",
       "      <td>Email Opened</td>\n",
       "      <td>SG1A - Agentes de Carga</td>\n",
       "      <td>...</td>\n",
       "      <td>No</td>\n",
       "      <td>No</td>\n",
       "      <td>No</td>\n",
       "      <td>No</td>\n",
       "      <td>16.0</td>\n",
       "      <td>16.0</td>\n",
       "      <td>No</td>\n",
       "      <td>16/08/2022</td>\n",
       "      <td>5/11/2022</td>\n",
       "      <td>19/01/2024</td>\n",
       "    </tr>\n",
       "  </tbody>\n",
       "</table>\n",
       "<p>5 rows × 23 columns</p>\n",
       "</div>"
      ],
      "text/plain": [
       "                         origen          fuente no_enviar_email no_llamar  \\\n",
       "id                                                                          \n",
       "660737                      API            Chat              No        No   \n",
       "660728                      API  Organic Search              No        No   \n",
       "660680                      API            Chat              No        No   \n",
       "660673  Landing Page Submission          Google              No        No   \n",
       "660562                      API  Organic Search              No        No   \n",
       "\n",
       "        compra  visitas_total  tiempo_en_site_total  paginas_vistas_visita  \\\n",
       "id                                                                           \n",
       "660737       0            0.0                     0                    0.0   \n",
       "660728       0            5.0                   674                    2.5   \n",
       "660680       0            0.0                     0                    0.0   \n",
       "660673       1            2.0                  1640                    2.0   \n",
       "660562       1           11.0                  1538                   11.0   \n",
       "\n",
       "                  ult_actividad                   ambito  ...  \\\n",
       "id                                                        ...   \n",
       "660737  Page Visited on Website  SG1A - Agentes de Carga  ...   \n",
       "660728             Email Opened  SG1A - Agentes de Carga  ...   \n",
       "660680        Chat Conversation                      NaN  ...   \n",
       "660673             Email Opened      SG2A - Importadores  ...   \n",
       "660562             Email Opened  SG1A - Agentes de Carga  ...   \n",
       "\n",
       "       conociste_periodico conociste_youtube conociste_facebook  \\\n",
       "id                                                                \n",
       "660737                  No                No                 No   \n",
       "660728                  No                No                 No   \n",
       "660680                  No                No                 No   \n",
       "660673                  No                No                 No   \n",
       "660562                  No                No                 No   \n",
       "\n",
       "       conociste_referencias score_actividad score_perfil descarga_lm  \\\n",
       "id                                                                      \n",
       "660737                    No            15.0         15.0          No   \n",
       "660728                    No            15.0         15.0          No   \n",
       "660680                    No            17.0         15.0          No   \n",
       "660673                    No            14.0         20.0          No   \n",
       "660562                    No            16.0         16.0          No   \n",
       "\n",
       "        fecha_interaccion  fecha_inicio_contrato fecha_fin_contrato  \n",
       "id                                                                   \n",
       "660737          9/05/2021                    NaN                NaN  \n",
       "660728          3/06/2022                    NaN                NaN  \n",
       "660680         16/07/2020                    NaN                NaN  \n",
       "660673         11/09/2020             19/10/2020         14/06/2022  \n",
       "660562         16/08/2022              5/11/2022         19/01/2024  \n",
       "\n",
       "[5 rows x 23 columns]"
      ]
     },
     "execution_count": 266,
     "metadata": {},
     "output_type": "execute_result"
    }
   ],
   "source": [
    "df.head()"
   ]
  },
  {
   "cell_type": "code",
   "execution_count": 267,
   "id": "976c8ac6",
   "metadata": {},
   "outputs": [
    {
     "name": "stdout",
     "output_type": "stream",
     "text": [
      "<class 'pandas.core.frame.DataFrame'>\n",
      "Index: 6810 entries, 660737 to 579538\n",
      "Data columns (total 23 columns):\n",
      " #   Column                 Non-Null Count  Dtype  \n",
      "---  ------                 --------------  -----  \n",
      " 0   origen                 6810 non-null   object \n",
      " 1   fuente                 6780 non-null   object \n",
      " 2   no_enviar_email        6810 non-null   object \n",
      " 3   no_llamar              6810 non-null   object \n",
      " 4   compra                 6810 non-null   int64  \n",
      " 5   visitas_total          6719 non-null   float64\n",
      " 6   tiempo_en_site_total   6810 non-null   int64  \n",
      " 7   paginas_vistas_visita  6719 non-null   float64\n",
      " 8   ult_actividad          6746 non-null   object \n",
      " 9   ambito                 5734 non-null   object \n",
      " 10  ocupacion              4804 non-null   object \n",
      " 11  conociste_google       6810 non-null   object \n",
      " 12  conociste_revista      6810 non-null   object \n",
      " 13  conociste_periodico    6810 non-null   object \n",
      " 14  conociste_youtube      6810 non-null   object \n",
      " 15  conociste_facebook     6810 non-null   object \n",
      " 16  conociste_referencias  6810 non-null   object \n",
      " 17  score_actividad        3705 non-null   float64\n",
      " 18  score_perfil           3705 non-null   float64\n",
      " 19  descarga_lm            6810 non-null   object \n",
      " 20  fecha_interaccion      6810 non-null   object \n",
      " 21  fecha_inicio_contrato  2588 non-null   object \n",
      " 22  fecha_fin_contrato     2588 non-null   object \n",
      "dtypes: float64(4), int64(2), object(17)\n",
      "memory usage: 1.2+ MB\n"
     ]
    }
   ],
   "source": [
    "df.info()"
   ]
  },
  {
   "cell_type": "markdown",
   "id": "61c48248",
   "metadata": {},
   "source": [
    "## DATOS RELEVANTES"
   ]
  },
  {
   "cell_type": "markdown",
   "id": "ad7a25dd",
   "metadata": {},
   "source": [
    "### Identificación"
   ]
  },
  {
   "cell_type": "code",
   "execution_count": 268,
   "id": "576e4a23",
   "metadata": {},
   "outputs": [
    {
     "name": "stdout",
     "output_type": "stream",
     "text": [
      "<class 'pandas.core.frame.DataFrame'>\n",
      "Index: 6810 entries, 660737 to 579538\n",
      "Data columns (total 23 columns):\n",
      " #   Column                 Non-Null Count  Dtype  \n",
      "---  ------                 --------------  -----  \n",
      " 0   origen                 6810 non-null   object \n",
      " 1   fuente                 6780 non-null   object \n",
      " 2   no_enviar_email        6810 non-null   object \n",
      " 3   no_llamar              6810 non-null   object \n",
      " 4   compra                 6810 non-null   int64  \n",
      " 5   visitas_total          6719 non-null   float64\n",
      " 6   tiempo_en_site_total   6810 non-null   int64  \n",
      " 7   paginas_vistas_visita  6719 non-null   float64\n",
      " 8   ult_actividad          6746 non-null   object \n",
      " 9   ambito                 5734 non-null   object \n",
      " 10  ocupacion              4804 non-null   object \n",
      " 11  conociste_google       6810 non-null   object \n",
      " 12  conociste_revista      6810 non-null   object \n",
      " 13  conociste_periodico    6810 non-null   object \n",
      " 14  conociste_youtube      6810 non-null   object \n",
      " 15  conociste_facebook     6810 non-null   object \n",
      " 16  conociste_referencias  6810 non-null   object \n",
      " 17  score_actividad        3705 non-null   float64\n",
      " 18  score_perfil           3705 non-null   float64\n",
      " 19  descarga_lm            6810 non-null   object \n",
      " 20  fecha_interaccion      6810 non-null   object \n",
      " 21  fecha_inicio_contrato  2588 non-null   object \n",
      " 22  fecha_fin_contrato     2588 non-null   object \n",
      "dtypes: float64(4), int64(2), object(17)\n",
      "memory usage: 1.2+ MB\n"
     ]
    }
   ],
   "source": [
    "df.info()"
   ]
  },
  {
   "cell_type": "markdown",
   "id": "f105d581",
   "metadata": {},
   "source": [
    "### Corrección"
   ]
  },
  {
   "cell_type": "code",
   "execution_count": 269,
   "id": "047987a9",
   "metadata": {},
   "outputs": [],
   "source": [
    "df= df.drop(columns=['fecha_interaccion','fecha_inicio_contrato','fecha_fin_contrato'])"
   ]
  },
  {
   "cell_type": "markdown",
   "id": "158ee1d7",
   "metadata": {},
   "source": [
    "## TIPOS DE DATOS"
   ]
  },
  {
   "cell_type": "markdown",
   "id": "88162727",
   "metadata": {},
   "source": [
    "### Identificación"
   ]
  },
  {
   "cell_type": "code",
   "execution_count": 270,
   "id": "197a99c2",
   "metadata": {},
   "outputs": [
    {
     "data": {
      "text/plain": [
       "origen                    object\n",
       "fuente                    object\n",
       "no_enviar_email           object\n",
       "no_llamar                 object\n",
       "compra                     int64\n",
       "visitas_total            float64\n",
       "tiempo_en_site_total       int64\n",
       "paginas_vistas_visita    float64\n",
       "ult_actividad             object\n",
       "ambito                    object\n",
       "ocupacion                 object\n",
       "conociste_google          object\n",
       "conociste_revista         object\n",
       "conociste_periodico       object\n",
       "conociste_youtube         object\n",
       "conociste_facebook        object\n",
       "conociste_referencias     object\n",
       "score_actividad          float64\n",
       "score_perfil             float64\n",
       "descarga_lm               object\n",
       "dtype: object"
      ]
     },
     "execution_count": 270,
     "metadata": {},
     "output_type": "execute_result"
    }
   ],
   "source": [
    "df.dtypes"
   ]
  },
  {
   "cell_type": "markdown",
   "id": "54f495a6",
   "metadata": {},
   "source": [
    "### Corrección"
   ]
  },
  {
   "cell_type": "code",
   "execution_count": 271,
   "id": "828b9893",
   "metadata": {
    "scrolled": false
   },
   "outputs": [
    {
     "data": {
      "text/plain": [
       "origen                    object\n",
       "fuente                    object\n",
       "no_enviar_email           object\n",
       "no_llamar                 object\n",
       "compra                     int64\n",
       "visitas_total              Int64\n",
       "tiempo_en_site_total       int64\n",
       "paginas_vistas_visita    float64\n",
       "ult_actividad             object\n",
       "ambito                    object\n",
       "ocupacion                 object\n",
       "conociste_google          object\n",
       "conociste_revista         object\n",
       "conociste_periodico       object\n",
       "conociste_youtube         object\n",
       "conociste_facebook        object\n",
       "conociste_referencias     object\n",
       "score_actividad          float64\n",
       "score_perfil             float64\n",
       "descarga_lm               object\n",
       "dtype: object"
      ]
     },
     "execution_count": 271,
     "metadata": {},
     "output_type": "execute_result"
    }
   ],
   "source": [
    "df = df.astype({'visitas_total':'Int64'})\n",
    "\n",
    "df.dtypes"
   ]
  },
  {
   "cell_type": "markdown",
   "id": "cc8d4a22",
   "metadata": {},
   "source": [
    "## VALORES ÚNICOS"
   ]
  },
  {
   "cell_type": "markdown",
   "id": "f21f0e36",
   "metadata": {},
   "source": [
    "### Identificación"
   ]
  },
  {
   "cell_type": "code",
   "execution_count": 272,
   "id": "6e53e444",
   "metadata": {
    "scrolled": false
   },
   "outputs": [
    {
     "data": {
      "text/plain": [
       "conociste_youtube           1\n",
       "conociste_revista           1\n",
       "descarga_lm                 2\n",
       "conociste_referencias       2\n",
       "no_enviar_email             2\n",
       "no_llamar                   2\n",
       "compra                      2\n",
       "conociste_facebook          2\n",
       "conociste_periodico         2\n",
       "conociste_google            2\n",
       "origen                      4\n",
       "ambito                      5\n",
       "ocupacion                   6\n",
       "score_perfil               10\n",
       "score_actividad            12\n",
       "fuente                     15\n",
       "ult_actividad              16\n",
       "visitas_total              40\n",
       "paginas_vistas_visita     101\n",
       "tiempo_en_site_total     1601\n",
       "dtype: int64"
      ]
     },
     "execution_count": 272,
     "metadata": {},
     "output_type": "execute_result"
    }
   ],
   "source": [
    "df.nunique().sort_values()"
   ]
  },
  {
   "cell_type": "markdown",
   "id": "b1d1a668",
   "metadata": {},
   "source": [
    "### Corrección"
   ]
  },
  {
   "cell_type": "code",
   "execution_count": 273,
   "id": "62f7d14e",
   "metadata": {},
   "outputs": [],
   "source": [
    "df.drop(columns = ['conociste_youtube','conociste_revista'], inplace = True)"
   ]
  },
  {
   "cell_type": "markdown",
   "id": "e25cfc89",
   "metadata": {},
   "source": [
    "## DUPLICADOS"
   ]
  },
  {
   "cell_type": "markdown",
   "id": "8a079ed3",
   "metadata": {},
   "source": [
    "### Identificación"
   ]
  },
  {
   "cell_type": "code",
   "execution_count": 274,
   "id": "f5b23bfc",
   "metadata": {
    "scrolled": true
   },
   "outputs": [
    {
     "data": {
      "text/plain": [
       "1206"
      ]
     },
     "execution_count": 274,
     "metadata": {},
     "output_type": "execute_result"
    }
   ],
   "source": [
    "df.duplicated().sum()"
   ]
  },
  {
   "cell_type": "markdown",
   "id": "d440242b",
   "metadata": {},
   "source": [
    "### Corrección"
   ]
  },
  {
   "cell_type": "code",
   "execution_count": 275,
   "id": "a693f362",
   "metadata": {},
   "outputs": [],
   "source": [
    "df.drop_duplicates(inplace = True)"
   ]
  },
  {
   "cell_type": "markdown",
   "id": "632ec2cd",
   "metadata": {
    "jp-MarkdownHeadingCollapsed": true
   },
   "source": [
    "## SEPARAR NUMÉRICAS Y CATEGÓRICAS"
   ]
  },
  {
   "cell_type": "markdown",
   "id": "573a61ac",
   "metadata": {},
   "source": [
    "### Categóricas"
   ]
  },
  {
   "cell_type": "code",
   "execution_count": 276,
   "id": "47a7eece",
   "metadata": {},
   "outputs": [],
   "source": [
    "cat = df.select_dtypes(exclude = 'number').copy()"
   ]
  },
  {
   "cell_type": "markdown",
   "id": "41756893",
   "metadata": {},
   "source": [
    "### Numéricas"
   ]
  },
  {
   "cell_type": "code",
   "execution_count": 277,
   "id": "59140e9a",
   "metadata": {},
   "outputs": [],
   "source": [
    "num = df.select_dtypes(include='number').copy()"
   ]
  },
  {
   "cell_type": "markdown",
   "id": "5e7d8e7e",
   "metadata": {},
   "source": [
    "## GESTIÓN DE CATEGÓRICAS"
   ]
  },
  {
   "cell_type": "code",
   "execution_count": 278,
   "id": "abb8d909",
   "metadata": {},
   "outputs": [
    {
     "data": {
      "text/html": [
       "<div>\n",
       "<style scoped>\n",
       "    .dataframe tbody tr th:only-of-type {\n",
       "        vertical-align: middle;\n",
       "    }\n",
       "\n",
       "    .dataframe tbody tr th {\n",
       "        vertical-align: top;\n",
       "    }\n",
       "\n",
       "    .dataframe thead th {\n",
       "        text-align: right;\n",
       "    }\n",
       "</style>\n",
       "<table border=\"1\" class=\"dataframe\">\n",
       "  <thead>\n",
       "    <tr style=\"text-align: right;\">\n",
       "      <th></th>\n",
       "      <th>count</th>\n",
       "      <th>unique</th>\n",
       "      <th>top</th>\n",
       "      <th>freq</th>\n",
       "    </tr>\n",
       "  </thead>\n",
       "  <tbody>\n",
       "    <tr>\n",
       "      <th>origen</th>\n",
       "      <td>5604</td>\n",
       "      <td>4</td>\n",
       "      <td>Landing Page Submission</td>\n",
       "      <td>3651</td>\n",
       "    </tr>\n",
       "    <tr>\n",
       "      <th>fuente</th>\n",
       "      <td>5581</td>\n",
       "      <td>15</td>\n",
       "      <td>Google</td>\n",
       "      <td>2170</td>\n",
       "    </tr>\n",
       "    <tr>\n",
       "      <th>no_enviar_email</th>\n",
       "      <td>5604</td>\n",
       "      <td>2</td>\n",
       "      <td>No</td>\n",
       "      <td>5100</td>\n",
       "    </tr>\n",
       "    <tr>\n",
       "      <th>no_llamar</th>\n",
       "      <td>5604</td>\n",
       "      <td>2</td>\n",
       "      <td>No</td>\n",
       "      <td>5602</td>\n",
       "    </tr>\n",
       "    <tr>\n",
       "      <th>ult_actividad</th>\n",
       "      <td>5540</td>\n",
       "      <td>16</td>\n",
       "      <td>Email Opened</td>\n",
       "      <td>2146</td>\n",
       "    </tr>\n",
       "    <tr>\n",
       "      <th>ambito</th>\n",
       "      <td>5094</td>\n",
       "      <td>5</td>\n",
       "      <td>SG1A - Agentes de Carga</td>\n",
       "      <td>2165</td>\n",
       "    </tr>\n",
       "    <tr>\n",
       "      <th>ocupacion</th>\n",
       "      <td>4164</td>\n",
       "      <td>6</td>\n",
       "      <td>Asistente de logistica</td>\n",
       "      <td>3572</td>\n",
       "    </tr>\n",
       "    <tr>\n",
       "      <th>conociste_google</th>\n",
       "      <td>5604</td>\n",
       "      <td>2</td>\n",
       "      <td>No</td>\n",
       "      <td>5593</td>\n",
       "    </tr>\n",
       "    <tr>\n",
       "      <th>conociste_periodico</th>\n",
       "      <td>5604</td>\n",
       "      <td>2</td>\n",
       "      <td>No</td>\n",
       "      <td>5603</td>\n",
       "    </tr>\n",
       "    <tr>\n",
       "      <th>conociste_facebook</th>\n",
       "      <td>5604</td>\n",
       "      <td>2</td>\n",
       "      <td>No</td>\n",
       "      <td>5600</td>\n",
       "    </tr>\n",
       "    <tr>\n",
       "      <th>conociste_referencias</th>\n",
       "      <td>5604</td>\n",
       "      <td>2</td>\n",
       "      <td>No</td>\n",
       "      <td>5598</td>\n",
       "    </tr>\n",
       "    <tr>\n",
       "      <th>descarga_lm</th>\n",
       "      <td>5604</td>\n",
       "      <td>2</td>\n",
       "      <td>No</td>\n",
       "      <td>3474</td>\n",
       "    </tr>\n",
       "  </tbody>\n",
       "</table>\n",
       "</div>"
      ],
      "text/plain": [
       "                      count unique                      top  freq\n",
       "origen                 5604      4  Landing Page Submission  3651\n",
       "fuente                 5581     15                   Google  2170\n",
       "no_enviar_email        5604      2                       No  5100\n",
       "no_llamar              5604      2                       No  5602\n",
       "ult_actividad          5540     16             Email Opened  2146\n",
       "ambito                 5094      5  SG1A - Agentes de Carga  2165\n",
       "ocupacion              4164      6   Asistente de logistica  3572\n",
       "conociste_google       5604      2                       No  5593\n",
       "conociste_periodico    5604      2                       No  5603\n",
       "conociste_facebook     5604      2                       No  5600\n",
       "conociste_referencias  5604      2                       No  5598\n",
       "descarga_lm            5604      2                       No  3474"
      ]
     },
     "execution_count": 278,
     "metadata": {},
     "output_type": "execute_result"
    }
   ],
   "source": [
    "cat.describe().T"
   ]
  },
  {
   "cell_type": "markdown",
   "id": "5b5808b7",
   "metadata": {},
   "source": [
    "### Nulos"
   ]
  },
  {
   "cell_type": "markdown",
   "id": "5c08ca55",
   "metadata": {},
   "source": [
    "#### Identificación"
   ]
  },
  {
   "cell_type": "code",
   "execution_count": 279,
   "id": "da49ae63",
   "metadata": {},
   "outputs": [
    {
     "data": {
      "text/plain": [
       "ocupacion                1440\n",
       "ambito                    510\n",
       "ult_actividad              64\n",
       "fuente                     23\n",
       "origen                      0\n",
       "no_enviar_email             0\n",
       "no_llamar                   0\n",
       "conociste_google            0\n",
       "conociste_periodico         0\n",
       "conociste_facebook          0\n",
       "conociste_referencias       0\n",
       "descarga_lm                 0\n",
       "dtype: int64"
      ]
     },
     "execution_count": 279,
     "metadata": {},
     "output_type": "execute_result"
    }
   ],
   "source": [
    "cat.isna().sum().sort_values(ascending = False)"
   ]
  },
  {
   "cell_type": "code",
   "execution_count": 280,
   "id": "092849e1",
   "metadata": {},
   "outputs": [
    {
     "data": {
      "text/plain": [
       "(5604, 12)"
      ]
     },
     "execution_count": 280,
     "metadata": {},
     "output_type": "execute_result"
    }
   ],
   "source": [
    "cat.shape"
   ]
  },
  {
   "cell_type": "code",
   "execution_count": 281,
   "id": "2a6b3d7c",
   "metadata": {},
   "outputs": [
    {
     "data": {
      "text/plain": [
       "(5604, 6)"
      ]
     },
     "execution_count": 281,
     "metadata": {},
     "output_type": "execute_result"
    }
   ],
   "source": [
    "num.shape"
   ]
  },
  {
   "cell_type": "markdown",
   "id": "6802d575",
   "metadata": {},
   "source": [
    "#### Corrección"
   ]
  },
  {
   "cell_type": "code",
   "execution_count": 282,
   "id": "897e1019",
   "metadata": {},
   "outputs": [
    {
     "data": {
      "text/plain": [
       "ocupacion\n",
       "Asistente de logistica               3572\n",
       "Gerente de operaciones logisticas     438\n",
       "Supervisor de almacen                 128\n",
       "Otro                                   12\n",
       "Asistente administrativo                9\n",
       "Analista de comercio exterior           5\n",
       "Name: count, dtype: int64"
      ]
     },
     "execution_count": 282,
     "metadata": {},
     "output_type": "execute_result"
    }
   ],
   "source": [
    "cat.ocupacion.value_counts()"
   ]
  },
  {
   "cell_type": "markdown",
   "id": "ebeb52a6",
   "metadata": {},
   "source": [
    "##### Imputar por un valor"
   ]
  },
  {
   "cell_type": "markdown",
   "id": "2cba1c3c",
   "metadata": {},
   "source": [
    "###### Variables a imputar"
   ]
  },
  {
   "cell_type": "code",
   "execution_count": 283,
   "id": "8627b9b8",
   "metadata": {},
   "outputs": [
    {
     "data": {
      "text/plain": [
       "Index(['origen', 'fuente', 'no_enviar_email', 'no_llamar', 'ult_actividad',\n",
       "       'ambito', 'ocupacion', 'conociste_google', 'conociste_periodico',\n",
       "       'conociste_facebook', 'conociste_referencias', 'descarga_lm'],\n",
       "      dtype='object')"
      ]
     },
     "execution_count": 283,
     "metadata": {},
     "output_type": "execute_result"
    }
   ],
   "source": [
    "cat.columns"
   ]
  },
  {
   "cell_type": "code",
   "execution_count": 284,
   "id": "4050ef9f",
   "metadata": {},
   "outputs": [],
   "source": [
    "var_imputar_valor = ['origen',\n",
    "                     'fuente',\n",
    "                     'no_enviar_email',\n",
    "                     'no_llamar',\n",
    "                     'ult_actividad',\n",
    "                     'ambito',\n",
    "                     'conociste_google',\n",
    "                     'conociste_facebook',\n",
    "                     'conociste_referencias',\n",
    "                     'descarga_lm']"
   ]
  },
  {
   "cell_type": "markdown",
   "id": "fa866ac6",
   "metadata": {},
   "source": [
    "###### Valor por el que imputar"
   ]
  },
  {
   "cell_type": "code",
   "execution_count": 285,
   "id": "10abb34a",
   "metadata": {},
   "outputs": [],
   "source": [
    "valor = 'Null'"
   ]
  },
  {
   "cell_type": "markdown",
   "id": "78d10252",
   "metadata": {},
   "source": [
    "###### Imputar"
   ]
  },
  {
   "cell_type": "code",
   "execution_count": 286,
   "id": "f16e8491",
   "metadata": {},
   "outputs": [],
   "source": [
    "cat[var_imputar_valor] = cat[var_imputar_valor].fillna(valor)"
   ]
  },
  {
   "cell_type": "markdown",
   "id": "53825f78",
   "metadata": {},
   "source": [
    "##### Imputar por la moda"
   ]
  },
  {
   "cell_type": "markdown",
   "id": "a0880301",
   "metadata": {},
   "source": [
    "###### Variables a imputar"
   ]
  },
  {
   "cell_type": "code",
   "execution_count": 287,
   "id": "8441ea39",
   "metadata": {},
   "outputs": [],
   "source": [
    "var_imputar_moda = ['ocupacion']"
   ]
  },
  {
   "cell_type": "markdown",
   "id": "5d394b4e",
   "metadata": {},
   "source": [
    "###### Funcion para imputar con la moda"
   ]
  },
  {
   "cell_type": "code",
   "execution_count": 288,
   "id": "a04f11b2",
   "metadata": {},
   "outputs": [],
   "source": [
    "def imputar_moda(variable):\n",
    "    return(variable.fillna(variable.mode()[0]))"
   ]
  },
  {
   "cell_type": "markdown",
   "id": "1892b33e",
   "metadata": {},
   "source": [
    "###### Imputar con la moda"
   ]
  },
  {
   "cell_type": "code",
   "execution_count": 289,
   "id": "f6987d2c",
   "metadata": {},
   "outputs": [],
   "source": [
    "cat[var_imputar_moda] = cat[var_imputar_moda].apply(imputar_moda)"
   ]
  },
  {
   "cell_type": "markdown",
   "id": "913cd65d",
   "metadata": {},
   "source": [
    "### Atípicos"
   ]
  },
  {
   "cell_type": "markdown",
   "id": "5a575397",
   "metadata": {},
   "source": [
    "#### Categorías poco frecuentes"
   ]
  },
  {
   "cell_type": "markdown",
   "id": "e88c9f39",
   "metadata": {},
   "source": [
    "##### Función para agrupar categorías raras en 'Otros'"
   ]
  },
  {
   "cell_type": "code",
   "execution_count": 290,
   "id": "c59f8d06",
   "metadata": {},
   "outputs": [],
   "source": [
    "def agrupar_cat_raras(variable, criterio = 0.05):\n",
    "    #Calcula las frecuencias\n",
    "    frecuencias = variable.value_counts(normalize=True)\n",
    "    #Identifica las que están por debajo del criterio\n",
    "    temp = [cada for cada in frecuencias.loc[frecuencias < criterio].index.values]\n",
    "    #Las recodifica en 'Otros'\n",
    "    temp2 = np.where(variable.isin(temp),'Otros',variable)\n",
    "    #Devuelve el resultado\n",
    "    return(temp2)"
   ]
  },
  {
   "cell_type": "markdown",
   "id": "4205e067",
   "metadata": {},
   "source": [
    "##### Variables a imputar"
   ]
  },
  {
   "cell_type": "code",
   "execution_count": 291,
   "id": "ec35c874",
   "metadata": {},
   "outputs": [],
   "source": [
    "var_imputar_moda = cat.columns.to_list()"
   ]
  },
  {
   "cell_type": "markdown",
   "id": "5eaca402",
   "metadata": {},
   "source": [
    "##### Aplicar"
   ]
  },
  {
   "cell_type": "code",
   "execution_count": 292,
   "id": "2b187bc7",
   "metadata": {},
   "outputs": [],
   "source": [
    "for variable in var_imputar_moda:\n",
    "    cat[variable] = agrupar_cat_raras(cat[variable],criterio = 0.02)"
   ]
  },
  {
   "cell_type": "markdown",
   "id": "1454c16e",
   "metadata": {},
   "source": [
    "### Estandarización de variables"
   ]
  },
  {
   "cell_type": "code",
   "execution_count": 293,
   "id": "05d0462c",
   "metadata": {},
   "outputs": [
    {
     "data": {
      "text/plain": [
       "ambito\n",
       "SG1A - Agentes de Carga    2165\n",
       "SG2A - Importadores        1225\n",
       "SG2B - Exportadores         861\n",
       "SG3 - Otros                 552\n",
       "Null                        510\n",
       "SG1C - Aerolineas           291\n",
       "Name: count, dtype: int64"
      ]
     },
     "execution_count": 293,
     "metadata": {},
     "output_type": "execute_result"
    }
   ],
   "source": [
    "cat.ambito.value_counts()"
   ]
  },
  {
   "cell_type": "code",
   "execution_count": 294,
   "id": "71d908cf",
   "metadata": {},
   "outputs": [],
   "source": [
    "cat['ambito'] = cat['ambito'].replace({\n",
    "    'SG1A - Agentes de Carga': 'Agentes de Carga',\n",
    "    'SG2A - Importadores': 'Importadores',\n",
    "    'SG2B - Exportadores': 'Exportadores',\n",
    "    'SG3 - Otros': 'Otros',\n",
    "    'SG1C - Aerolineas': 'Aerolineas'\n",
    "})\n"
   ]
  },
  {
   "cell_type": "markdown",
   "id": "db3a72a6",
   "metadata": {},
   "source": [
    "## GESTIÓN DE NUMÉRICAS"
   ]
  },
  {
   "cell_type": "code",
   "execution_count": 295,
   "id": "fea082b0",
   "metadata": {},
   "outputs": [
    {
     "data": {
      "text/html": [
       "<div>\n",
       "<style scoped>\n",
       "    .dataframe tbody tr th:only-of-type {\n",
       "        vertical-align: middle;\n",
       "    }\n",
       "\n",
       "    .dataframe tbody tr th {\n",
       "        vertical-align: top;\n",
       "    }\n",
       "\n",
       "    .dataframe thead th {\n",
       "        text-align: right;\n",
       "    }\n",
       "</style>\n",
       "<table border=\"1\" class=\"dataframe\">\n",
       "  <thead>\n",
       "    <tr style=\"text-align: right;\">\n",
       "      <th></th>\n",
       "      <th>count</th>\n",
       "      <th>mean</th>\n",
       "      <th>std</th>\n",
       "      <th>min</th>\n",
       "      <th>25%</th>\n",
       "      <th>50%</th>\n",
       "      <th>75%</th>\n",
       "      <th>max</th>\n",
       "    </tr>\n",
       "  </thead>\n",
       "  <tbody>\n",
       "    <tr>\n",
       "      <th>compra</th>\n",
       "      <td>5604.0</td>\n",
       "      <td>0.391328</td>\n",
       "      <td>0.488091</td>\n",
       "      <td>0.0</td>\n",
       "      <td>0.0</td>\n",
       "      <td>0.0</td>\n",
       "      <td>1.0</td>\n",
       "      <td>1.0</td>\n",
       "    </tr>\n",
       "    <tr>\n",
       "      <th>visitas_total</th>\n",
       "      <td>5513.0</td>\n",
       "      <td>4.260838</td>\n",
       "      <td>5.466133</td>\n",
       "      <td>0.0</td>\n",
       "      <td>2.0</td>\n",
       "      <td>3.0</td>\n",
       "      <td>5.0</td>\n",
       "      <td>251.0</td>\n",
       "    </tr>\n",
       "    <tr>\n",
       "      <th>tiempo_en_site_total</th>\n",
       "      <td>5604.0</td>\n",
       "      <td>598.862955</td>\n",
       "      <td>549.953653</td>\n",
       "      <td>0.0</td>\n",
       "      <td>134.0</td>\n",
       "      <td>362.0</td>\n",
       "      <td>1080.0</td>\n",
       "      <td>2272.0</td>\n",
       "    </tr>\n",
       "    <tr>\n",
       "      <th>paginas_vistas_visita</th>\n",
       "      <td>5513.0</td>\n",
       "      <td>2.899976</td>\n",
       "      <td>1.938767</td>\n",
       "      <td>0.0</td>\n",
       "      <td>2.0</td>\n",
       "      <td>2.5</td>\n",
       "      <td>4.0</td>\n",
       "      <td>24.0</td>\n",
       "    </tr>\n",
       "    <tr>\n",
       "      <th>score_actividad</th>\n",
       "      <td>3134.0</td>\n",
       "      <td>14.07307</td>\n",
       "      <td>1.31021</td>\n",
       "      <td>7.0</td>\n",
       "      <td>13.0</td>\n",
       "      <td>14.0</td>\n",
       "      <td>15.0</td>\n",
       "      <td>18.0</td>\n",
       "    </tr>\n",
       "    <tr>\n",
       "      <th>score_perfil</th>\n",
       "      <td>3134.0</td>\n",
       "      <td>16.522336</td>\n",
       "      <td>1.852349</td>\n",
       "      <td>11.0</td>\n",
       "      <td>15.0</td>\n",
       "      <td>16.0</td>\n",
       "      <td>18.0</td>\n",
       "      <td>20.0</td>\n",
       "    </tr>\n",
       "  </tbody>\n",
       "</table>\n",
       "</div>"
      ],
      "text/plain": [
       "                        count        mean         std   min    25%    50%  \\\n",
       "compra                 5604.0    0.391328    0.488091   0.0    0.0    0.0   \n",
       "visitas_total          5513.0    4.260838    5.466133   0.0    2.0    3.0   \n",
       "tiempo_en_site_total   5604.0  598.862955  549.953653   0.0  134.0  362.0   \n",
       "paginas_vistas_visita  5513.0    2.899976    1.938767   0.0    2.0    2.5   \n",
       "score_actividad        3134.0    14.07307     1.31021   7.0   13.0   14.0   \n",
       "score_perfil           3134.0   16.522336    1.852349  11.0   15.0   16.0   \n",
       "\n",
       "                          75%     max  \n",
       "compra                    1.0     1.0  \n",
       "visitas_total             5.0   251.0  \n",
       "tiempo_en_site_total   1080.0  2272.0  \n",
       "paginas_vistas_visita     4.0    24.0  \n",
       "score_actividad          15.0    18.0  \n",
       "score_perfil             18.0    20.0  "
      ]
     },
     "execution_count": 295,
     "metadata": {},
     "output_type": "execute_result"
    }
   ],
   "source": [
    "num.describe().T"
   ]
  },
  {
   "cell_type": "markdown",
   "id": "d65bd06a",
   "metadata": {},
   "source": [
    "### Nulos"
   ]
  },
  {
   "cell_type": "markdown",
   "id": "e5ee8416",
   "metadata": {},
   "source": [
    "#### Identificación"
   ]
  },
  {
   "cell_type": "code",
   "execution_count": 296,
   "id": "c9f054a3",
   "metadata": {
    "scrolled": false
   },
   "outputs": [
    {
     "data": {
      "text/plain": [
       "score_actividad          2470\n",
       "score_perfil             2470\n",
       "visitas_total              91\n",
       "paginas_vistas_visita      91\n",
       "compra                      0\n",
       "tiempo_en_site_total        0\n",
       "dtype: int64"
      ]
     },
     "execution_count": 296,
     "metadata": {},
     "output_type": "execute_result"
    }
   ],
   "source": [
    "num.isna().sum().sort_values(ascending = False)"
   ]
  },
  {
   "cell_type": "markdown",
   "id": "1b7cb2c4",
   "metadata": {},
   "source": [
    "#### Corrección"
   ]
  },
  {
   "cell_type": "markdown",
   "id": "649c19f3",
   "metadata": {},
   "source": [
    "##### Imputar por la mediana"
   ]
  },
  {
   "cell_type": "markdown",
   "id": "d22ea297",
   "metadata": {},
   "source": [
    "###### Variables a imputar"
   ]
  },
  {
   "cell_type": "code",
   "execution_count": 297,
   "id": "37e4d7f6",
   "metadata": {},
   "outputs": [],
   "source": [
    "var_imputar_mediana = num.columns.to_list()"
   ]
  },
  {
   "cell_type": "markdown",
   "id": "432c371c",
   "metadata": {},
   "source": [
    "###### Funcion para imputar con la mediana"
   ]
  },
  {
   "cell_type": "code",
   "execution_count": 298,
   "id": "66679233",
   "metadata": {},
   "outputs": [],
   "source": [
    "def imputar_mediana(variable):\n",
    "    if pd.api.types.is_integer_dtype(variable):\n",
    "        return(variable.fillna(int(variable.median())))\n",
    "    else:\n",
    "        return(variable.fillna(variable.median()))"
   ]
  },
  {
   "cell_type": "markdown",
   "id": "70d7a1c5",
   "metadata": {},
   "source": [
    "###### Imputar con la mediana"
   ]
  },
  {
   "cell_type": "code",
   "execution_count": 299,
   "id": "887a4106",
   "metadata": {},
   "outputs": [],
   "source": [
    "num[var_imputar_mediana] = num[var_imputar_mediana].apply(imputar_mediana)"
   ]
  },
  {
   "cell_type": "markdown",
   "id": "82cb56e8",
   "metadata": {},
   "source": [
    "### Atípicos"
   ]
  },
  {
   "cell_type": "markdown",
   "id": "65fe929c",
   "metadata": {},
   "source": [
    "#### Por desviación típica"
   ]
  },
  {
   "cell_type": "markdown",
   "id": "70eafaad",
   "metadata": {},
   "source": [
    "##### Identificación"
   ]
  },
  {
   "cell_type": "markdown",
   "id": "73c50fa0",
   "metadata": {},
   "source": [
    "###### Definir el número de desviaciones típicas"
   ]
  },
  {
   "cell_type": "code",
   "execution_count": 300,
   "id": "3023ee87",
   "metadata": {},
   "outputs": [],
   "source": [
    "num_desv_tip = 4"
   ]
  },
  {
   "cell_type": "code",
   "execution_count": 301,
   "id": "71ee6cf7",
   "metadata": {},
   "outputs": [],
   "source": [
    "def atipicos_desv_tip(variable, num_desv_tip = 4):\n",
    "    #sacamos los nulos por ahora\n",
    "    variable = variable.dropna()\n",
    "    #calculamos los límites\n",
    "    media = np.mean(variable)\n",
    "    sd = np.std(variable)\n",
    "    umbral = sd * num_desv_tip\n",
    "    lim_inf = media - umbral\n",
    "    lim_sup = media + umbral\n",
    "    #encontramos los índices de los que están fuera de los límites\n",
    "    indices = [indice for indice,valor in variable.items() if valor < lim_inf or valor > lim_sup]\n",
    "    return(indices)"
   ]
  },
  {
   "cell_type": "markdown",
   "id": "41db35c9",
   "metadata": {},
   "source": [
    "###### Función que cuenta el número de atípicos"
   ]
  },
  {
   "cell_type": "code",
   "execution_count": 302,
   "id": "ccdcd38a",
   "metadata": {},
   "outputs": [],
   "source": [
    "def conteo_atipicos(df,variable, num_desv_tip = 4):\n",
    "    atipicos = atipicos_desv_tip(df[variable], num_desv_tip)\n",
    "    return(df.loc[atipicos,variable].value_counts())"
   ]
  },
  {
   "cell_type": "markdown",
   "id": "f6cb69d2",
   "metadata": {},
   "source": [
    "###### Variables a aplicar"
   ]
  },
  {
   "cell_type": "code",
   "execution_count": 303,
   "id": "77c5bfb4",
   "metadata": {},
   "outputs": [],
   "source": [
    "var_atipicos_dt = num.columns.to_list()"
   ]
  },
  {
   "cell_type": "markdown",
   "id": "04412d41",
   "metadata": {},
   "source": [
    "###### Aplicar"
   ]
  },
  {
   "cell_type": "code",
   "execution_count": 304,
   "id": "403040ef",
   "metadata": {},
   "outputs": [
    {
     "name": "stdout",
     "output_type": "stream",
     "text": [
      "\n",
      "compra:\n",
      "\n",
      "Series([], Name: count, dtype: int64)\n",
      "\n",
      "visitas_total:\n",
      "\n",
      "visitas_total\n",
      "27     3\n",
      "28     2\n",
      "43     1\n",
      "30     1\n",
      "141    1\n",
      "29     1\n",
      "26     1\n",
      "74     1\n",
      "41     1\n",
      "54     1\n",
      "115    1\n",
      "251    1\n",
      "32     1\n",
      "42     1\n",
      "Name: count, dtype: Int64\n",
      "\n",
      "tiempo_en_site_total:\n",
      "\n",
      "Series([], Name: count, dtype: int64)\n",
      "\n",
      "paginas_vistas_visita:\n",
      "\n",
      "paginas_vistas_visita\n",
      "11.00    12\n",
      "13.00     6\n",
      "14.00     6\n",
      "12.00     4\n",
      "15.00     3\n",
      "16.00     2\n",
      "12.33     1\n",
      "24.00     1\n",
      "11.50     1\n",
      "Name: count, dtype: int64\n",
      "\n",
      "score_actividad:\n",
      "\n",
      "score_actividad\n",
      "10.0    46\n",
      "9.0      7\n",
      "18.0     3\n",
      "8.0      2\n",
      "7.0      1\n",
      "Name: count, dtype: int64\n",
      "\n",
      "score_perfil:\n",
      "\n",
      "Series([], Name: count, dtype: int64)\n"
     ]
    }
   ],
   "source": [
    "for variable in var_atipicos_dt:\n",
    "    print('\\n' + variable + ':\\n')\n",
    "    print(conteo_atipicos(num,variable,num_desv_tip))"
   ]
  },
  {
   "cell_type": "markdown",
   "id": "47862bcf",
   "metadata": {},
   "source": [
    "#### Por winsorización manual para una variable"
   ]
  },
  {
   "cell_type": "markdown",
   "id": "be19a3d1",
   "metadata": {},
   "source": [
    "###### Aplicar"
   ]
  },
  {
   "cell_type": "code",
   "execution_count": 305,
   "id": "a607d0dd",
   "metadata": {},
   "outputs": [],
   "source": [
    "num['visitas_total']= num['visitas_total'].clip(0,50)\n",
    "num['paginas_vistas_visita']= num['paginas_vistas_visita'].clip(0,20)"
   ]
  },
  {
   "cell_type": "code",
   "execution_count": 311,
   "id": "4b812438",
   "metadata": {},
   "outputs": [
    {
     "name": "stdout",
     "output_type": "stream",
     "text": [
      "<class 'pandas.core.frame.DataFrame'>\n",
      "Index: 5604 entries, 660737 to 579538\n",
      "Data columns (total 6 columns):\n",
      " #   Column                 Non-Null Count  Dtype  \n",
      "---  ------                 --------------  -----  \n",
      " 0   compra                 5604 non-null   int64  \n",
      " 1   visitas_total          5604 non-null   Int64  \n",
      " 2   tiempo_en_site_total   5604 non-null   int64  \n",
      " 3   paginas_vistas_visita  5604 non-null   float64\n",
      " 4   score_actividad        5604 non-null   float64\n",
      " 5   score_perfil           5604 non-null   float64\n",
      "dtypes: Int64(1), float64(3), int64(2)\n",
      "memory usage: 441.0 KB\n"
     ]
    }
   ],
   "source": [
    "num.info()"
   ]
  },
  {
   "cell_type": "code",
   "execution_count": 310,
   "id": "c7df8c37",
   "metadata": {},
   "outputs": [
    {
     "name": "stdout",
     "output_type": "stream",
     "text": [
      "<class 'pandas.core.frame.DataFrame'>\n",
      "Index: 5604 entries, 660737 to 579538\n",
      "Data columns (total 12 columns):\n",
      " #   Column                 Non-Null Count  Dtype \n",
      "---  ------                 --------------  ----- \n",
      " 0   origen                 5604 non-null   object\n",
      " 1   fuente                 5604 non-null   object\n",
      " 2   no_enviar_email        5604 non-null   object\n",
      " 3   no_llamar              5604 non-null   object\n",
      " 4   ult_actividad          5604 non-null   object\n",
      " 5   ambito                 5604 non-null   object\n",
      " 6   ocupacion              5604 non-null   object\n",
      " 7   conociste_google       5604 non-null   object\n",
      " 8   conociste_periodico    5604 non-null   object\n",
      " 9   conociste_facebook     5604 non-null   object\n",
      " 10  conociste_referencias  5604 non-null   object\n",
      " 11  descarga_lm            5604 non-null   object\n",
      "dtypes: object(12)\n",
      "memory usage: 698.2+ KB\n"
     ]
    }
   ],
   "source": [
    "cat.info()"
   ]
  },
  {
   "cell_type": "markdown",
   "id": "0f6b1e4a",
   "metadata": {},
   "source": [
    "## GUARDAR DATASETS TRAS CALIDAD DE DATOS"
   ]
  },
  {
   "cell_type": "markdown",
   "id": "1e211b09",
   "metadata": {},
   "source": [
    "Guarda los avances en df, cat y num con un sufijo para poder guardar o recuperar avances del proyecto.\n",
    "\n",
    "En formato pickle para no perder las modificaciones de metadatos."
   ]
  },
  {
   "cell_type": "markdown",
   "id": "abb12eef",
   "metadata": {},
   "source": [
    "### Definir los nombres de los archivos"
   ]
  },
  {
   "cell_type": "code",
   "execution_count": 308,
   "id": "f83c6f26",
   "metadata": {},
   "outputs": [],
   "source": [
    "ruta_trabajo = ruta_proyecto + '/02_Datos/03_Trabajo/' + 'trabajo_resultado_calidad.pickle'\n",
    "ruta_cat = ruta_proyecto + '/02_Datos/03_Trabajo/' + 'cat_resultado_calidad.pickle'\n",
    "ruta_num = ruta_proyecto + '/02_Datos/03_Trabajo/' + 'num_resultado_calidad.pickle'"
   ]
  },
  {
   "cell_type": "markdown",
   "id": "1699f284",
   "metadata": {},
   "source": [
    "### Guardar los archivos"
   ]
  },
  {
   "cell_type": "code",
   "execution_count": 309,
   "id": "6731887a",
   "metadata": {},
   "outputs": [],
   "source": [
    "df.to_pickle(ruta_trabajo)\n",
    "cat.to_pickle(ruta_cat)\n",
    "num.to_pickle(ruta_num)"
   ]
  }
 ],
 "metadata": {
  "kernelspec": {
   "display_name": "Python 3 (ipykernel)",
   "language": "python",
   "name": "python3"
  },
  "language_info": {
   "codemirror_mode": {
    "name": "ipython",
    "version": 3
   },
   "file_extension": ".py",
   "mimetype": "text/x-python",
   "name": "python",
   "nbconvert_exporter": "python",
   "pygments_lexer": "ipython3",
   "version": "3.12.3"
  },
  "toc": {
   "base_numbering": 1,
   "nav_menu": {},
   "number_sections": true,
   "sideBar": true,
   "skip_h1_title": false,
   "title_cell": "Table of Contents",
   "title_sidebar": "Contents",
   "toc_cell": false,
   "toc_position": {
    "height": "calc(100% - 180px)",
    "left": "10px",
    "top": "150px",
    "width": "406.5px"
   },
   "toc_section_display": true,
   "toc_window_display": true
  },
  "varInspector": {
   "cols": {
    "lenName": 16,
    "lenType": 16,
    "lenVar": 40
   },
   "kernels_config": {
    "python": {
     "delete_cmd_postfix": "",
     "delete_cmd_prefix": "del ",
     "library": "var_list.py",
     "varRefreshCmd": "print(var_dic_list())"
    },
    "r": {
     "delete_cmd_postfix": ") ",
     "delete_cmd_prefix": "rm(",
     "library": "var_list.r",
     "varRefreshCmd": "cat(var_dic_list()) "
    }
   },
   "position": {
    "height": "546.85px",
    "left": "680.75px",
    "right": "20px",
    "top": "118px",
    "width": "350px"
   },
   "types_to_exclude": [
    "module",
    "function",
    "builtin_function_or_method",
    "instance",
    "_Feature"
   ],
   "window_display": false
  }
 },
 "nbformat": 4,
 "nbformat_minor": 5
}
