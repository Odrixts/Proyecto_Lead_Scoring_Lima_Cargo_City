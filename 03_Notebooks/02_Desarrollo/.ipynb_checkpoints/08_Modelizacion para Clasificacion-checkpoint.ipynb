{
 "cells": [
  {
   "cell_type": "markdown",
   "id": "d31dea65",
   "metadata": {},
   "source": [
    "# MODELIZACIÓN PARA CLASIFICACIÓN"
   ]
  },
  {
   "cell_type": "markdown",
   "id": "a18ebc17",
   "metadata": {},
   "source": [
    "**IMPORTANTE**: Recuerda hacer una copia de esta plantilla para no machacar la original."
   ]
  },
  {
   "cell_type": "markdown",
   "id": "8da437fb",
   "metadata": {},
   "source": [
    "**IMPORTANTE**: Esta plantilla está diseñada para una visión de máximos utilizando el framework de The Ultimate Algo Machine. Si tienes problemas de memoria o rendimiento recuerda reducir el problema mediante:\n",
    "\n",
    "* Muestreo\n",
    "* Balanceo undersampling\n",
    "* Reducir el número de algoritmos a testar\n",
    "* Reducir el número de parámetros a testar\n",
    "* Usar random search y especificar un n_iter adecuado"
   ]
  },
  {
   "cell_type": "markdown",
   "id": "swiss-fault",
   "metadata": {},
   "source": [
    "## IMPORTAR PAQUETES"
   ]
  },
  {
   "cell_type": "code",
   "execution_count": 141,
   "id": "8efc94ab",
   "metadata": {},
   "outputs": [
    {
     "name": "stdout",
     "output_type": "stream",
     "text": [
      "1.5.1\n"
     ]
    }
   ],
   "source": [
    "import sklearn\n",
    "print(sklearn.__version__)"
   ]
  },
  {
   "cell_type": "code",
   "execution_count": 142,
   "id": "adjacent-toddler",
   "metadata": {},
   "outputs": [],
   "source": [
    "import numpy as np\n",
    "import pandas as pd\n",
    "import matplotlib.pyplot as plt\n",
    "%matplotlib inline\n",
    "\n",
    "from sklearn.model_selection import train_test_split\n",
    "\n",
    "from sklearn.linear_model import LogisticRegression\n",
    "from sklearn.ensemble import RandomForestClassifier\n",
    "from xgboost import XGBClassifier\n",
    "from sklearn.ensemble import HistGradientBoostingClassifier\n",
    "from sklearn.pipeline import Pipeline\n",
    "\n",
    "from sklearn.model_selection import GridSearchCV\n",
    "from sklearn.model_selection import RandomizedSearchCV\n",
    "\n",
    "from sklearn.metrics import roc_auc_score\n",
    "from sklearn.metrics import precision_score\n",
    "from sklearn.metrics import recall_score\n",
    "from sklearn.metrics import f1_score\n",
    "\n",
    "from sklearn.metrics import confusion_matrix\n",
    "from sklearn.metrics import ConfusionMatrixDisplay\n",
    "\n",
    "from sklearn.metrics import classification_report\n",
    "\n",
    "#from sklearn.metrics import plot_precision_recall_curve\n",
    "from sklearn.metrics import PrecisionRecallDisplay\n",
    "import scikitplot as skplt\n",
    "from yellowbrick.classifier import discrimination_threshold\n",
    "\n",
    "#Autocompletar rápido\n",
    "%config IPCompleter.greedy=True\n",
    "\n",
    "#Desactivar la notación científica\n",
    "pd.options.display.float_format = '{:.2f}'.format\n",
    "\n",
    "#Desactivar los warnings\n",
    "import warnings\n",
    "warnings.filterwarnings(\"ignore\")"
   ]
  },
  {
   "cell_type": "markdown",
   "id": "graduate-compensation",
   "metadata": {},
   "source": [
    "## IMPORTAR LOS DATOS"
   ]
  },
  {
   "cell_type": "markdown",
   "id": "3a5b94ef",
   "metadata": {},
   "source": [
    "Sustituir la ruta del proyecto."
   ]
  },
  {
   "cell_type": "code",
   "execution_count": 143,
   "id": "f9d2de58",
   "metadata": {},
   "outputs": [],
   "source": [
    "ruta_proyecto = 'C:/Users/USER/Desktop/DSD4B (ZERO TO HERO)/03_MACHINE_LEARNING/08_CASOS/01_LEADSCORING'"
   ]
  },
  {
   "cell_type": "markdown",
   "id": "c3363765",
   "metadata": {},
   "source": [
    "Nombres de los ficheros de datos."
   ]
  },
  {
   "cell_type": "code",
   "execution_count": 144,
   "id": "a9e2e04a",
   "metadata": {},
   "outputs": [],
   "source": [
    "nombre_x = 'x_final.pickle'\n",
    "nombre_y = 'y_final.pickle'"
   ]
  },
  {
   "cell_type": "markdown",
   "id": "b9825018",
   "metadata": {},
   "source": [
    "Cargar los datos."
   ]
  },
  {
   "cell_type": "code",
   "execution_count": 145,
   "id": "cab6ebcd",
   "metadata": {},
   "outputs": [],
   "source": [
    "x = pd.read_pickle(ruta_proyecto + '/02_Datos/03_Trabajo/' + nombre_x)\n",
    "y = pd.read_pickle(ruta_proyecto + '/02_Datos/03_Trabajo/' + nombre_y)"
   ]
  },
  {
   "cell_type": "markdown",
   "id": "9790d322",
   "metadata": {},
   "source": [
    "## MODELIZAR"
   ]
  },
  {
   "cell_type": "markdown",
   "id": "930f685f",
   "metadata": {},
   "source": [
    "### Reservar el dataset de validacion"
   ]
  },
  {
   "cell_type": "code",
   "execution_count": 146,
   "id": "84b6fd41",
   "metadata": {},
   "outputs": [],
   "source": [
    "train_x,val_x,train_y,val_y = train_test_split(x,y,test_size=0.3)"
   ]
  },
  {
   "cell_type": "markdown",
   "id": "53bd4ad6",
   "metadata": {},
   "source": [
    "### Crear el pipe y el diccionario de algorimos, parámetros y valores a testar"
   ]
  },
  {
   "cell_type": "markdown",
   "id": "19b25807",
   "metadata": {},
   "source": [
    "Modificar para dejar solo los algoritmos que se quieran testar.\n",
    "\n",
    "Modificar los parámetros."
   ]
  },
  {
   "cell_type": "code",
   "execution_count": 147,
   "id": "3efa5c98",
   "metadata": {},
   "outputs": [],
   "source": [
    "pipe = Pipeline([('algoritmo',RandomForestClassifier())])\n",
    "\n",
    "grid = [{'algoritmo': [LogisticRegression()],\n",
    "         'algoritmo__n_jobs': [-1],\n",
    "         'algoritmo__solver': ['saga'],\n",
    "         'algoritmo__penalty': ['elasticnet', 'l1', 'l2', 'none'],\n",
    "         'algoritmo__C': [0,0.25,0.5,0.75,1]},\n",
    "        \n",
    "        {'algoritmo': [RandomForestClassifier()],\n",
    "         'algoritmo__n_jobs': [-1],\n",
    "         'algoritmo__max_depth': [5,10,15],\n",
    "         'algoritmo__n_estimators': [50,100,200]},\n",
    "        \n",
    "        {'algoritmo': [XGBClassifier()],\n",
    "         'algoritmo__n_jobs': [-1],\n",
    "         'algoritmo__verbosity': [0],#para que no salgan warnings\n",
    "         'algoritmo__learning_rate': [0.01,0.025,0.05,0.1],\n",
    "         'algoritmo__max_depth': [5,10,20],\n",
    "         'algoritmo__reg_alpha': [0,0.1,0.5,1],\n",
    "         'algoritmo__reg_lambda': [0.01,0.1,1],\n",
    "         'algoritmo__n_estimators': [100,500,1000]},\n",
    "        \n",
    "        {'algoritmo': [HistGradientBoostingClassifier()],\n",
    "         'algoritmo__learning_rate': [0.01,0.025,0.05,0.1],\n",
    "         'algoritmo__max_iter': [50,100,200],\n",
    "         'algoritmo__max_depth': [5,10,20],\n",
    "         'algoritmo__min_samples_leaf': [500],\n",
    "         'algoritmo__scoring': ['roc_auc'],\n",
    "         'algoritmo__l2_regularization': [0,0.25,0.5,0.75,1]}\n",
    "       ]"
   ]
  },
  {
   "cell_type": "markdown",
   "id": "1f836ca9",
   "metadata": {},
   "source": [
    "### Optimizar los hiper parámetros"
   ]
  },
  {
   "cell_type": "markdown",
   "id": "32983bac",
   "metadata": {},
   "source": [
    "Elegir si se quiere usar grid search o random search.\n",
    "\n",
    "Comentar la opción que no se vaya a usar."
   ]
  },
  {
   "cell_type": "markdown",
   "id": "3d73daa9",
   "metadata": {},
   "source": [
    "####  Con grid search"
   ]
  },
  {
   "cell_type": "code",
   "execution_count": 148,
   "id": "4be08386",
   "metadata": {
    "scrolled": true
   },
   "outputs": [
    {
     "data": {
      "text/html": [
       "<div>\n",
       "<style scoped>\n",
       "    .dataframe tbody tr th:only-of-type {\n",
       "        vertical-align: middle;\n",
       "    }\n",
       "\n",
       "    .dataframe tbody tr th {\n",
       "        vertical-align: top;\n",
       "    }\n",
       "\n",
       "    .dataframe thead th {\n",
       "        text-align: right;\n",
       "    }\n",
       "</style>\n",
       "<table border=\"1\" class=\"dataframe\">\n",
       "  <thead>\n",
       "    <tr style=\"text-align: right;\">\n",
       "      <th></th>\n",
       "      <th>mean_fit_time</th>\n",
       "      <th>std_fit_time</th>\n",
       "      <th>mean_score_time</th>\n",
       "      <th>std_score_time</th>\n",
       "      <th>param_algoritmo</th>\n",
       "      <th>param_algoritmo__C</th>\n",
       "      <th>param_algoritmo__n_jobs</th>\n",
       "      <th>param_algoritmo__penalty</th>\n",
       "      <th>param_algoritmo__solver</th>\n",
       "      <th>param_algoritmo__max_depth</th>\n",
       "      <th>...</th>\n",
       "      <th>param_algoritmo__max_iter</th>\n",
       "      <th>param_algoritmo__min_samples_leaf</th>\n",
       "      <th>param_algoritmo__scoring</th>\n",
       "      <th>params</th>\n",
       "      <th>split0_test_score</th>\n",
       "      <th>split1_test_score</th>\n",
       "      <th>split2_test_score</th>\n",
       "      <th>mean_test_score</th>\n",
       "      <th>std_test_score</th>\n",
       "      <th>rank_test_score</th>\n",
       "    </tr>\n",
       "  </thead>\n",
       "  <tbody>\n",
       "    <tr>\n",
       "      <th>170</th>\n",
       "      <td>0.73</td>\n",
       "      <td>0.03</td>\n",
       "      <td>0.05</td>\n",
       "      <td>0.00</td>\n",
       "      <td>XGBClassifier(base_score=None, booster=None, c...</td>\n",
       "      <td>NaN</td>\n",
       "      <td>-1.00</td>\n",
       "      <td>NaN</td>\n",
       "      <td>NaN</td>\n",
       "      <td>5.00</td>\n",
       "      <td>...</td>\n",
       "      <td>NaN</td>\n",
       "      <td>NaN</td>\n",
       "      <td>NaN</td>\n",
       "      <td>{'algoritmo': XGBClassifier(base_score=None, b...</td>\n",
       "      <td>0.91</td>\n",
       "      <td>0.92</td>\n",
       "      <td>0.91</td>\n",
       "      <td>0.92</td>\n",
       "      <td>0.00</td>\n",
       "      <td>1</td>\n",
       "    </tr>\n",
       "    <tr>\n",
       "      <th>265</th>\n",
       "      <td>0.35</td>\n",
       "      <td>0.00</td>\n",
       "      <td>0.02</td>\n",
       "      <td>0.00</td>\n",
       "      <td>XGBClassifier(base_score=None, booster=None, c...</td>\n",
       "      <td>NaN</td>\n",
       "      <td>-1.00</td>\n",
       "      <td>NaN</td>\n",
       "      <td>NaN</td>\n",
       "      <td>5.00</td>\n",
       "      <td>...</td>\n",
       "      <td>NaN</td>\n",
       "      <td>NaN</td>\n",
       "      <td>NaN</td>\n",
       "      <td>{'algoritmo': XGBClassifier(base_score=None, b...</td>\n",
       "      <td>0.91</td>\n",
       "      <td>0.92</td>\n",
       "      <td>0.91</td>\n",
       "      <td>0.92</td>\n",
       "      <td>0.00</td>\n",
       "      <td>2</td>\n",
       "    </tr>\n",
       "    <tr>\n",
       "      <th>268</th>\n",
       "      <td>0.35</td>\n",
       "      <td>0.01</td>\n",
       "      <td>0.02</td>\n",
       "      <td>0.00</td>\n",
       "      <td>XGBClassifier(base_score=None, booster=None, c...</td>\n",
       "      <td>NaN</td>\n",
       "      <td>-1.00</td>\n",
       "      <td>NaN</td>\n",
       "      <td>NaN</td>\n",
       "      <td>5.00</td>\n",
       "      <td>...</td>\n",
       "      <td>NaN</td>\n",
       "      <td>NaN</td>\n",
       "      <td>NaN</td>\n",
       "      <td>{'algoritmo': XGBClassifier(base_score=None, b...</td>\n",
       "      <td>0.91</td>\n",
       "      <td>0.92</td>\n",
       "      <td>0.91</td>\n",
       "      <td>0.92</td>\n",
       "      <td>0.01</td>\n",
       "      <td>3</td>\n",
       "    </tr>\n",
       "    <tr>\n",
       "      <th>266</th>\n",
       "      <td>0.36</td>\n",
       "      <td>0.01</td>\n",
       "      <td>0.02</td>\n",
       "      <td>0.00</td>\n",
       "      <td>XGBClassifier(base_score=None, booster=None, c...</td>\n",
       "      <td>NaN</td>\n",
       "      <td>-1.00</td>\n",
       "      <td>NaN</td>\n",
       "      <td>NaN</td>\n",
       "      <td>5.00</td>\n",
       "      <td>...</td>\n",
       "      <td>NaN</td>\n",
       "      <td>NaN</td>\n",
       "      <td>NaN</td>\n",
       "      <td>{'algoritmo': XGBClassifier(base_score=None, b...</td>\n",
       "      <td>0.91</td>\n",
       "      <td>0.92</td>\n",
       "      <td>0.91</td>\n",
       "      <td>0.92</td>\n",
       "      <td>0.00</td>\n",
       "      <td>4</td>\n",
       "    </tr>\n",
       "    <tr>\n",
       "      <th>267</th>\n",
       "      <td>0.35</td>\n",
       "      <td>0.00</td>\n",
       "      <td>0.02</td>\n",
       "      <td>0.00</td>\n",
       "      <td>XGBClassifier(base_score=None, booster=None, c...</td>\n",
       "      <td>NaN</td>\n",
       "      <td>-1.00</td>\n",
       "      <td>NaN</td>\n",
       "      <td>NaN</td>\n",
       "      <td>5.00</td>\n",
       "      <td>...</td>\n",
       "      <td>NaN</td>\n",
       "      <td>NaN</td>\n",
       "      <td>NaN</td>\n",
       "      <td>{'algoritmo': XGBClassifier(base_score=None, b...</td>\n",
       "      <td>0.91</td>\n",
       "      <td>0.92</td>\n",
       "      <td>0.91</td>\n",
       "      <td>0.92</td>\n",
       "      <td>0.00</td>\n",
       "      <td>5</td>\n",
       "    </tr>\n",
       "    <tr>\n",
       "      <th>...</th>\n",
       "      <td>...</td>\n",
       "      <td>...</td>\n",
       "      <td>...</td>\n",
       "      <td>...</td>\n",
       "      <td>...</td>\n",
       "      <td>...</td>\n",
       "      <td>...</td>\n",
       "      <td>...</td>\n",
       "      <td>...</td>\n",
       "      <td>...</td>\n",
       "      <td>...</td>\n",
       "      <td>...</td>\n",
       "      <td>...</td>\n",
       "      <td>...</td>\n",
       "      <td>...</td>\n",
       "      <td>...</td>\n",
       "      <td>...</td>\n",
       "      <td>...</td>\n",
       "      <td>...</td>\n",
       "      <td>...</td>\n",
       "      <td>...</td>\n",
       "    </tr>\n",
       "    <tr>\n",
       "      <th>11</th>\n",
       "      <td>0.00</td>\n",
       "      <td>0.00</td>\n",
       "      <td>0.00</td>\n",
       "      <td>0.00</td>\n",
       "      <td>LogisticRegression()</td>\n",
       "      <td>0.50</td>\n",
       "      <td>-1.00</td>\n",
       "      <td>none</td>\n",
       "      <td>saga</td>\n",
       "      <td>NaN</td>\n",
       "      <td>...</td>\n",
       "      <td>NaN</td>\n",
       "      <td>NaN</td>\n",
       "      <td>NaN</td>\n",
       "      <td>{'algoritmo': LogisticRegression(), 'algoritmo...</td>\n",
       "      <td>NaN</td>\n",
       "      <td>NaN</td>\n",
       "      <td>NaN</td>\n",
       "      <td>NaN</td>\n",
       "      <td>NaN</td>\n",
       "      <td>630</td>\n",
       "    </tr>\n",
       "    <tr>\n",
       "      <th>8</th>\n",
       "      <td>0.00</td>\n",
       "      <td>0.00</td>\n",
       "      <td>0.00</td>\n",
       "      <td>0.00</td>\n",
       "      <td>LogisticRegression()</td>\n",
       "      <td>0.50</td>\n",
       "      <td>-1.00</td>\n",
       "      <td>elasticnet</td>\n",
       "      <td>saga</td>\n",
       "      <td>NaN</td>\n",
       "      <td>...</td>\n",
       "      <td>NaN</td>\n",
       "      <td>NaN</td>\n",
       "      <td>NaN</td>\n",
       "      <td>{'algoritmo': LogisticRegression(), 'algoritmo...</td>\n",
       "      <td>NaN</td>\n",
       "      <td>NaN</td>\n",
       "      <td>NaN</td>\n",
       "      <td>NaN</td>\n",
       "      <td>NaN</td>\n",
       "      <td>630</td>\n",
       "    </tr>\n",
       "    <tr>\n",
       "      <th>7</th>\n",
       "      <td>0.00</td>\n",
       "      <td>0.00</td>\n",
       "      <td>0.00</td>\n",
       "      <td>0.00</td>\n",
       "      <td>LogisticRegression()</td>\n",
       "      <td>0.25</td>\n",
       "      <td>-1.00</td>\n",
       "      <td>none</td>\n",
       "      <td>saga</td>\n",
       "      <td>NaN</td>\n",
       "      <td>...</td>\n",
       "      <td>NaN</td>\n",
       "      <td>NaN</td>\n",
       "      <td>NaN</td>\n",
       "      <td>{'algoritmo': LogisticRegression(), 'algoritmo...</td>\n",
       "      <td>NaN</td>\n",
       "      <td>NaN</td>\n",
       "      <td>NaN</td>\n",
       "      <td>NaN</td>\n",
       "      <td>NaN</td>\n",
       "      <td>630</td>\n",
       "    </tr>\n",
       "    <tr>\n",
       "      <th>15</th>\n",
       "      <td>0.00</td>\n",
       "      <td>0.00</td>\n",
       "      <td>0.00</td>\n",
       "      <td>0.00</td>\n",
       "      <td>LogisticRegression()</td>\n",
       "      <td>0.75</td>\n",
       "      <td>-1.00</td>\n",
       "      <td>none</td>\n",
       "      <td>saga</td>\n",
       "      <td>NaN</td>\n",
       "      <td>...</td>\n",
       "      <td>NaN</td>\n",
       "      <td>NaN</td>\n",
       "      <td>NaN</td>\n",
       "      <td>{'algoritmo': LogisticRegression(), 'algoritmo...</td>\n",
       "      <td>NaN</td>\n",
       "      <td>NaN</td>\n",
       "      <td>NaN</td>\n",
       "      <td>NaN</td>\n",
       "      <td>NaN</td>\n",
       "      <td>630</td>\n",
       "    </tr>\n",
       "    <tr>\n",
       "      <th>0</th>\n",
       "      <td>0.00</td>\n",
       "      <td>0.00</td>\n",
       "      <td>0.00</td>\n",
       "      <td>0.00</td>\n",
       "      <td>LogisticRegression()</td>\n",
       "      <td>0.00</td>\n",
       "      <td>-1.00</td>\n",
       "      <td>elasticnet</td>\n",
       "      <td>saga</td>\n",
       "      <td>NaN</td>\n",
       "      <td>...</td>\n",
       "      <td>NaN</td>\n",
       "      <td>NaN</td>\n",
       "      <td>NaN</td>\n",
       "      <td>{'algoritmo': LogisticRegression(), 'algoritmo...</td>\n",
       "      <td>NaN</td>\n",
       "      <td>NaN</td>\n",
       "      <td>NaN</td>\n",
       "      <td>NaN</td>\n",
       "      <td>NaN</td>\n",
       "      <td>630</td>\n",
       "    </tr>\n",
       "  </tbody>\n",
       "</table>\n",
       "<p>641 rows × 26 columns</p>\n",
       "</div>"
      ],
      "text/plain": [
       "     mean_fit_time  std_fit_time  mean_score_time  std_score_time  \\\n",
       "170           0.73          0.03             0.05            0.00   \n",
       "265           0.35          0.00             0.02            0.00   \n",
       "268           0.35          0.01             0.02            0.00   \n",
       "266           0.36          0.01             0.02            0.00   \n",
       "267           0.35          0.00             0.02            0.00   \n",
       "..             ...           ...              ...             ...   \n",
       "11            0.00          0.00             0.00            0.00   \n",
       "8             0.00          0.00             0.00            0.00   \n",
       "7             0.00          0.00             0.00            0.00   \n",
       "15            0.00          0.00             0.00            0.00   \n",
       "0             0.00          0.00             0.00            0.00   \n",
       "\n",
       "                                       param_algoritmo  param_algoritmo__C  \\\n",
       "170  XGBClassifier(base_score=None, booster=None, c...                 NaN   \n",
       "265  XGBClassifier(base_score=None, booster=None, c...                 NaN   \n",
       "268  XGBClassifier(base_score=None, booster=None, c...                 NaN   \n",
       "266  XGBClassifier(base_score=None, booster=None, c...                 NaN   \n",
       "267  XGBClassifier(base_score=None, booster=None, c...                 NaN   \n",
       "..                                                 ...                 ...   \n",
       "11                                LogisticRegression()                0.50   \n",
       "8                                 LogisticRegression()                0.50   \n",
       "7                                 LogisticRegression()                0.25   \n",
       "15                                LogisticRegression()                0.75   \n",
       "0                                 LogisticRegression()                0.00   \n",
       "\n",
       "     param_algoritmo__n_jobs param_algoritmo__penalty param_algoritmo__solver  \\\n",
       "170                    -1.00                      NaN                     NaN   \n",
       "265                    -1.00                      NaN                     NaN   \n",
       "268                    -1.00                      NaN                     NaN   \n",
       "266                    -1.00                      NaN                     NaN   \n",
       "267                    -1.00                      NaN                     NaN   \n",
       "..                       ...                      ...                     ...   \n",
       "11                     -1.00                     none                    saga   \n",
       "8                      -1.00               elasticnet                    saga   \n",
       "7                      -1.00                     none                    saga   \n",
       "15                     -1.00                     none                    saga   \n",
       "0                      -1.00               elasticnet                    saga   \n",
       "\n",
       "     param_algoritmo__max_depth  ...  param_algoritmo__max_iter  \\\n",
       "170                        5.00  ...                        NaN   \n",
       "265                        5.00  ...                        NaN   \n",
       "268                        5.00  ...                        NaN   \n",
       "266                        5.00  ...                        NaN   \n",
       "267                        5.00  ...                        NaN   \n",
       "..                          ...  ...                        ...   \n",
       "11                          NaN  ...                        NaN   \n",
       "8                           NaN  ...                        NaN   \n",
       "7                           NaN  ...                        NaN   \n",
       "15                          NaN  ...                        NaN   \n",
       "0                           NaN  ...                        NaN   \n",
       "\n",
       "     param_algoritmo__min_samples_leaf  param_algoritmo__scoring  \\\n",
       "170                                NaN                       NaN   \n",
       "265                                NaN                       NaN   \n",
       "268                                NaN                       NaN   \n",
       "266                                NaN                       NaN   \n",
       "267                                NaN                       NaN   \n",
       "..                                 ...                       ...   \n",
       "11                                 NaN                       NaN   \n",
       "8                                  NaN                       NaN   \n",
       "7                                  NaN                       NaN   \n",
       "15                                 NaN                       NaN   \n",
       "0                                  NaN                       NaN   \n",
       "\n",
       "                                                params  split0_test_score  \\\n",
       "170  {'algoritmo': XGBClassifier(base_score=None, b...               0.91   \n",
       "265  {'algoritmo': XGBClassifier(base_score=None, b...               0.91   \n",
       "268  {'algoritmo': XGBClassifier(base_score=None, b...               0.91   \n",
       "266  {'algoritmo': XGBClassifier(base_score=None, b...               0.91   \n",
       "267  {'algoritmo': XGBClassifier(base_score=None, b...               0.91   \n",
       "..                                                 ...                ...   \n",
       "11   {'algoritmo': LogisticRegression(), 'algoritmo...                NaN   \n",
       "8    {'algoritmo': LogisticRegression(), 'algoritmo...                NaN   \n",
       "7    {'algoritmo': LogisticRegression(), 'algoritmo...                NaN   \n",
       "15   {'algoritmo': LogisticRegression(), 'algoritmo...                NaN   \n",
       "0    {'algoritmo': LogisticRegression(), 'algoritmo...                NaN   \n",
       "\n",
       "     split1_test_score  split2_test_score  mean_test_score std_test_score  \\\n",
       "170               0.92               0.91             0.92           0.00   \n",
       "265               0.92               0.91             0.92           0.00   \n",
       "268               0.92               0.91             0.92           0.01   \n",
       "266               0.92               0.91             0.92           0.00   \n",
       "267               0.92               0.91             0.92           0.00   \n",
       "..                 ...                ...              ...            ...   \n",
       "11                 NaN                NaN              NaN            NaN   \n",
       "8                  NaN                NaN              NaN            NaN   \n",
       "7                  NaN                NaN              NaN            NaN   \n",
       "15                 NaN                NaN              NaN            NaN   \n",
       "0                  NaN                NaN              NaN            NaN   \n",
       "\n",
       "    rank_test_score  \n",
       "170               1  \n",
       "265               2  \n",
       "268               3  \n",
       "266               4  \n",
       "267               5  \n",
       "..              ...  \n",
       "11              630  \n",
       "8               630  \n",
       "7               630  \n",
       "15              630  \n",
       "0               630  \n",
       "\n",
       "[641 rows x 26 columns]"
      ]
     },
     "execution_count": 148,
     "metadata": {},
     "output_type": "execute_result"
    }
   ],
   "source": [
    "grid_search = GridSearchCV(estimator= pipe, \n",
    "                            param_grid = grid, \n",
    "                            cv = 3, \n",
    "                            scoring = 'roc_auc',\n",
    "                            verbose = 0,\n",
    "                            n_jobs = -1)\n",
    "\n",
    "modelo = grid_search.fit(train_x,train_y)\n",
    "\n",
    "pd.DataFrame(grid_search.cv_results_).sort_values(by = 'rank_test_score')"
   ]
  },
  {
   "cell_type": "markdown",
   "id": "25d8aecf",
   "metadata": {},
   "source": [
    "####  Con random search"
   ]
  },
  {
   "cell_type": "code",
   "execution_count": 149,
   "id": "dcef4ab4",
   "metadata": {},
   "outputs": [],
   "source": [
    "#random_search = RandomizedSearchCV(estimator = pipe,\n",
    "#                                   param_distributions = grid, \n",
    "#                                   n_iter = 5, \n",
    "#                                   cv = 3, \n",
    "#                                   scoring = 'roc_auc', \n",
    "#                                   verbose = 0,\n",
    "#                                   n_jobs = -1)\n",
    "\n",
    "#modelo = random_search.fit(train_x,train_y)\n",
    "\n",
    "#pd.DataFrame(random_search.cv_results_).sort_values(by = 'rank_test_score')"
   ]
  },
  {
   "cell_type": "markdown",
   "id": "fd6f59ab",
   "metadata": {},
   "source": [
    "## EVALUAR"
   ]
  },
  {
   "cell_type": "markdown",
   "id": "90ac986a",
   "metadata": {},
   "source": [
    "### Predecir sobre validación"
   ]
  },
  {
   "cell_type": "code",
   "execution_count": 150,
   "id": "ca079478",
   "metadata": {},
   "outputs": [],
   "source": [
    "pred = modelo.best_estimator_.predict_proba(val_x)[:, 1]"
   ]
  },
  {
   "cell_type": "markdown",
   "id": "fe9fb9a1",
   "metadata": {},
   "source": [
    "### Evaluar sobre validación"
   ]
  },
  {
   "cell_type": "code",
   "execution_count": 151,
   "id": "f249d6b8",
   "metadata": {
    "scrolled": true
   },
   "outputs": [
    {
     "data": {
      "text/plain": [
       "0.9250110394538181"
      ]
     },
     "execution_count": 151,
     "metadata": {},
     "output_type": "execute_result"
    }
   ],
   "source": [
    "roc_auc_score(val_y, pred)"
   ]
  },
  {
   "cell_type": "markdown",
   "id": "87d46a1d",
   "metadata": {},
   "source": [
    "### Examinar el mejor modelo"
   ]
  },
  {
   "cell_type": "code",
   "execution_count": 152,
   "id": "f32990c1",
   "metadata": {},
   "outputs": [
    {
     "data": {
      "text/plain": [
       "[('algoritmo',\n",
       "  XGBClassifier(base_score=None, booster=None, callbacks=None,\n",
       "                colsample_bylevel=None, colsample_bynode=None,\n",
       "                colsample_bytree=None, device=None, early_stopping_rounds=None,\n",
       "                enable_categorical=False, eval_metric=None, feature_types=None,\n",
       "                gamma=None, grow_policy=None, importance_type=None,\n",
       "                interaction_constraints=None, learning_rate=0.025, max_bin=None,\n",
       "                max_cat_threshold=None, max_cat_to_onehot=None,\n",
       "                max_delta_step=None, max_depth=5, max_leaves=None,\n",
       "                min_child_weight=None, missing=nan, monotone_constraints=None,\n",
       "                multi_strategy=None, n_estimators=1000, n_jobs=-1,\n",
       "                num_parallel_tree=None, random_state=None, ...))]"
      ]
     },
     "execution_count": 152,
     "metadata": {},
     "output_type": "execute_result"
    }
   ],
   "source": [
    "modelo.best_estimator_.steps"
   ]
  },
  {
   "cell_type": "code",
   "execution_count": 153,
   "id": "86eb1ee6",
   "metadata": {},
   "outputs": [
    {
     "data": {
      "text/plain": [
       "{'objective': 'binary:logistic',\n",
       " 'base_score': None,\n",
       " 'booster': None,\n",
       " 'callbacks': None,\n",
       " 'colsample_bylevel': None,\n",
       " 'colsample_bynode': None,\n",
       " 'colsample_bytree': None,\n",
       " 'device': None,\n",
       " 'early_stopping_rounds': None,\n",
       " 'enable_categorical': False,\n",
       " 'eval_metric': None,\n",
       " 'feature_types': None,\n",
       " 'gamma': None,\n",
       " 'grow_policy': None,\n",
       " 'importance_type': None,\n",
       " 'interaction_constraints': None,\n",
       " 'learning_rate': 0.025,\n",
       " 'max_bin': None,\n",
       " 'max_cat_threshold': None,\n",
       " 'max_cat_to_onehot': None,\n",
       " 'max_delta_step': None,\n",
       " 'max_depth': 5,\n",
       " 'max_leaves': None,\n",
       " 'min_child_weight': None,\n",
       " 'missing': nan,\n",
       " 'monotone_constraints': None,\n",
       " 'multi_strategy': None,\n",
       " 'n_estimators': 1000,\n",
       " 'n_jobs': -1,\n",
       " 'num_parallel_tree': None,\n",
       " 'random_state': None,\n",
       " 'reg_alpha': 1,\n",
       " 'reg_lambda': 0.01,\n",
       " 'sampling_method': None,\n",
       " 'scale_pos_weight': None,\n",
       " 'subsample': None,\n",
       " 'tree_method': None,\n",
       " 'validate_parameters': None,\n",
       " 'verbosity': 0}"
      ]
     },
     "execution_count": 153,
     "metadata": {},
     "output_type": "execute_result"
    }
   ],
   "source": [
    "modelo.best_estimator_.named_steps['algoritmo'].get_params()"
   ]
  },
  {
   "cell_type": "code",
   "execution_count": 154,
   "id": "6dd0cd01",
   "metadata": {},
   "outputs": [
    {
     "name": "stdout",
     "output_type": "stream",
     "text": [
      "Resultados para diferentes umbrales:\n",
      "   Threshold  ROC AUC  Precision  Recall  F1 Score\n",
      "0       0.10     0.93       0.70    0.97      0.82\n",
      "1       0.20     0.93       0.75    0.94      0.84\n",
      "2       0.30     0.93       0.80    0.91      0.85\n",
      "3       0.40     0.93       0.83    0.87      0.85\n",
      "4       0.50     0.93       0.86    0.83      0.84\n",
      "5       0.60     0.93       0.86    0.78      0.82\n",
      "6       0.70     0.93       0.89    0.73      0.80\n",
      "7       0.80     0.93       0.92    0.64      0.75\n",
      "8       0.90     0.93       0.95    0.52      0.67\n",
      "El umbral óptimo basado en el F1 Score es: 0.3\n"
     ]
    }
   ],
   "source": [
    "# Evaluar diferentes umbrales usando el mejor modelo\n",
    "\n",
    "# Definir los umbrales específicos a evaluar\n",
    "thresholds = [0.1, 0.2, 0.3, 0.4, 0.5, 0.6, 0.7, 0.8, 0.9]\n",
    "\n",
    "# Crear un DataFrame para almacenar las métricas de cada umbral\n",
    "results = pd.DataFrame(columns=[\"Threshold\", \"ROC AUC\", \"Precision\", \"Recall\", \"F1 Score\"])\n",
    "\n",
    "# Evaluar cada umbral\n",
    "for threshold in thresholds:\n",
    "    # Convertir probabilidades en predicciones binarias según el umbral\n",
    "    predictions = (pred >= threshold).astype(int)\n",
    "\n",
    "    # Calcular las métricas y redondear a 3 decimales\n",
    "    roc_auc = roc_auc_score(val_y, pred)\n",
    "    precision = precision_score(val_y, predictions)\n",
    "    recall = recall_score(val_y, predictions)\n",
    "    f1 = f1_score(val_y, predictions)\n",
    "    \n",
    "    # Crear un DataFrame temporal con los resultados actuales\n",
    "    temp_df = pd.DataFrame({\n",
    "        \"Threshold\": [threshold],\n",
    "        \"ROC AUC\": [roc_auc],\n",
    "        \"Precision\": [precision],\n",
    "        \"Recall\": [recall],\n",
    "        \"F1 Score\": [f1]\n",
    "    })\n",
    "    \n",
    "    # Concatenar el DataFrame temporal al de resultados\n",
    "    results = pd.concat([results, temp_df], ignore_index=True)\n",
    "\n",
    "# Mostrar resultados\n",
    "print(\"Resultados para diferentes umbrales:\")\n",
    "print(results)\n",
    "\n",
    "# Encontrar el umbral óptimo basado en el mejor F1 Score (o cualquier otra métrica que prefieras)\n",
    "optimal_threshold = results.loc[results['F1 Score'].idxmax(), \"Threshold\"]\n",
    "print(f\"El umbral óptimo basado en el F1 Score es: {optimal_threshold}\")\n",
    "\n"
   ]
  },
  {
   "cell_type": "markdown",
   "id": "f2848960",
   "metadata": {},
   "source": [
    "## REPORTING DEL MODELO"
   ]
  },
  {
   "cell_type": "markdown",
   "id": "e25e2c94",
   "metadata": {},
   "source": [
    "### Gain Chart"
   ]
  },
  {
   "cell_type": "code",
   "execution_count": 155,
   "id": "f6391cc4",
   "metadata": {},
   "outputs": [
    {
     "data": {
      "image/png": "[encoded data removed]",
      "text/plain": [
       "<Figure size 800x550 with 1 Axes>"
      ]
     },
     "metadata": {},
     "output_type": "display_data"
    }
   ],
   "source": [
    "fig, ax = plt.subplots()\n",
    "\n",
    "skplt.metrics.plot_cumulative_gain(val_y, modelo.best_estimator_.predict_proba(val_x), ax=ax) \n",
    "\n",
    "# Eliminamos la línea de los ceros, que internamente tiene etiqueta 'Class 0'\n",
    "lines = ax.get_lines()\n",
    "# Buscar por la etiqueta y eliminar la línea correspondiente\n",
    "for line in lines:\n",
    "    if line.get_label() == 'Class 0':\n",
    "        line.remove()\n",
    "\n",
    "# Personalizamos la leyenda sin incluir la línea de los ceros\n",
    "plt.legend(labels=['XGBClassifier'])\n",
    "\n",
    "# Ahora puedes mostrar el gráfico\n",
    "plt.show()"
   ]
  },
  {
   "cell_type": "markdown",
   "id": "148a74a7",
   "metadata": {},
   "source": [
    "### Lift Chart"
   ]
  },
  {
   "cell_type": "code",
   "execution_count": 156,
   "id": "5d56a4b8-b118-4f59-87e6-2617b50b8a11",
   "metadata": {},
   "outputs": [
    {
     "data": {
      "image/png": "[encoded data removed]",
      "text/plain": [
       "<Figure size 800x550 with 1 Axes>"
      ]
     },
     "metadata": {},
     "output_type": "display_data"
    }
   ],
   "source": [
    "fig, ax = plt.subplots()\n",
    "\n",
    "skplt.metrics.plot_lift_curve(val_y, modelo.best_estimator_.predict_proba(val_x), ax=ax) \n",
    "\n",
    "# Eliminamos la línea de los ceros, que internamente tiene etiqueta 'Class 0'\n",
    "lines = ax.get_lines()\n",
    "# Buscar por la etiqueta y eliminar la línea correspondiente\n",
    "for line in lines:\n",
    "    if line.get_label() == 'Class 0':\n",
    "        line.remove()\n",
    "\n",
    "# Personalizamos la leyenda sin incluir la línea de los ceros\n",
    "plt.legend(labels=['XGBClassifier'])\n",
    "\n",
    "# Ahora puedes mostrar el gráfico\n",
    "plt.show()"
   ]
  },
  {
   "cell_type": "markdown",
   "id": "b0f64e40",
   "metadata": {},
   "source": [
    "### ROC Chart"
   ]
  },
  {
   "cell_type": "code",
   "execution_count": 157,
   "id": "db7b53f4",
   "metadata": {
    "scrolled": false
   },
   "outputs": [
    {
     "data": {
      "image/png": "[encoded data removed]",
      "text/plain": [
       "<Figure size 800x550 with 1 Axes>"
      ]
     },
     "metadata": {},
     "output_type": "display_data"
    }
   ],
   "source": [
    "fig, ax = plt.subplots()\n",
    "\n",
    "# Generamos la gráfica ROC\n",
    "skplt.metrics.plot_roc(val_y, modelo.best_estimator_.predict_proba(val_x), ax=ax)\n",
    "\n",
    "# Obtenemos todas las líneas y las leyendas\n",
    "lines = ax.get_lines()\n",
    "\n",
    "# Recorremos las líneas para eliminar las no deseadas, excepto la línea de la clase 0\n",
    "for line in lines:\n",
    "    if 'ROC curve of class 0' in line.get_label():\n",
    "        line.set_label('Modelo')\n",
    "    elif line.get_linestyle() != '--':  # Mantenemos la línea punteada pero sin leyenda\n",
    "        line.set_visible(False)\n",
    "\n",
    "# Solo añadimos al leyenda la línea de la clase 0 renombrada a 'Modelo'\n",
    "handles, labels = ax.get_legend_handles_labels()\n",
    "new_handles = [h for h, l in zip(handles, labels) if l == 'Modelo']\n",
    "new_labels = ['XGBClassifier']\n",
    "\n",
    "ax.legend(new_handles, new_labels, loc='best')\n",
    "\n",
    "# Ahora puedes mostrar el gráfico\n",
    "plt.show();\n"
   ]
  }
 ],
 "metadata": {
  "kernelspec": {
   "display_name": "Python 3 (ipykernel)",
   "language": "python",
   "name": "python3"
  },
  "language_info": {
   "codemirror_mode": {
    "name": "ipython",
    "version": 3
   },
   "file_extension": ".py",
   "mimetype": "text/x-python",
   "name": "python",
   "nbconvert_exporter": "python",
   "pygments_lexer": "ipython3",
   "version": "3.12.3"
  },
  "toc": {
   "base_numbering": 1,
   "nav_menu": {},
   "number_sections": true,
   "sideBar": true,
   "skip_h1_title": false,
   "title_cell": "Table of Contents",
   "title_sidebar": "Contents",
   "toc_cell": false,
   "toc_position": {
    "height": "calc(100% - 180px)",
    "left": "10px",
    "top": "150px",
    "width": "253.95px"
   },
   "toc_section_display": true,
   "toc_window_display": true
  },
  "varInspector": {
   "cols": {
    "lenName": 16,
    "lenType": 16,
    "lenVar": 40
   },
   "kernels_config": {
    "python": {
     "delete_cmd_postfix": "",
     "delete_cmd_prefix": "del ",
     "library": "var_list.py",
     "varRefreshCmd": "print(var_dic_list())"
    },
    "r": {
     "delete_cmd_postfix": ") ",
     "delete_cmd_prefix": "rm(",
     "library": "var_list.r",
     "varRefreshCmd": "cat(var_dic_list()) "
    }
   },
   "position": {
    "height": "546.85px",
    "left": "1531.75px",
    "right": "20px",
    "top": "115px",
    "width": "350px"
   },
   "types_to_exclude": [
    "module",
    "function",
    "builtin_function_or_method",
    "instance",
    "_Feature"
   ],
   "window_display": false
  }
 },
 "nbformat": 4,
 "nbformat_minor": 5
}
