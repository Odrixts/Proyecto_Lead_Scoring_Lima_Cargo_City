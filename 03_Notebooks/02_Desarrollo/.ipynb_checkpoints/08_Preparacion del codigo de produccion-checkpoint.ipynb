{
 "cells": [
  {
   "cell_type": "markdown",
   "id": "797ae63f",
   "metadata": {},
   "source": [
    "## IMPORTAR LAS LIBRERIAS"
   ]
  },
  {
   "cell_type": "markdown",
   "id": "64445de1",
   "metadata": {},
   "source": [
    "Actualizar a las que se usen finalmente en tu proyecto."
   ]
  },
  {
   "cell_type": "code",
   "execution_count": 63,
   "id": "ffe7be80",
   "metadata": {},
   "outputs": [],
   "source": [
    "import numpy as np\n",
    "import pandas as pd\n",
    "import cloudpickle\n",
    "\n",
    "#Automcompletar rápido\n",
    "%config IPCompleter.greedy=True\n",
    "\n",
    "from sklearn.preprocessing import OneHotEncoder\n",
    "from sklearn.preprocessing import MinMaxScaler\n",
    "\n",
    "\n",
    "from xgboost import XGBClassifier\n",
    "\n",
    "from sklearn.pipeline import Pipeline\n",
    "from sklearn.preprocessing import FunctionTransformer\n",
    "from sklearn.compose import make_column_transformer\n",
    "from sklearn.pipeline import make_pipeline"
   ]
  },
  {
   "cell_type": "code",
   "execution_count": 64,
   "id": "614f6650",
   "metadata": {},
   "outputs": [],
   "source": [
    "import warnings\n",
    "warnings.filterwarnings(\"ignore\", category=DeprecationWarning)"
   ]
  },
  {
   "cell_type": "markdown",
   "id": "5e12241c",
   "metadata": {},
   "source": [
    "## CARGAR LOS DATOS"
   ]
  },
  {
   "cell_type": "markdown",
   "id": "807b37d3",
   "metadata": {},
   "source": [
    "### Ruta del proyecto"
   ]
  },
  {
   "cell_type": "code",
   "execution_count": 65,
   "id": "5a6711f7",
   "metadata": {},
   "outputs": [],
   "source": [
    "ruta_proyecto = 'C:/Users/USER/Desktop/DSD4B (ZERO TO HERO)/03_MACHINE_LEARNING/08_CASOS/01_LEADSCORING'"
   ]
  },
  {
   "cell_type": "markdown",
   "id": "89fe9a43",
   "metadata": {},
   "source": [
    "### Nombre del fichero de datos"
   ]
  },
  {
   "cell_type": "code",
   "execution_count": 66,
   "id": "25b345d7",
   "metadata": {},
   "outputs": [],
   "source": [
    "nombre_fichero_datos = 'leads_2020_2022.csv'"
   ]
  },
  {
   "cell_type": "markdown",
   "id": "765f82e1",
   "metadata": {},
   "source": [
    "### Cargar los datos"
   ]
  },
  {
   "cell_type": "code",
   "execution_count": 67,
   "id": "480494ff",
   "metadata": {},
   "outputs": [],
   "source": [
    "ruta_completa = ruta_proyecto + '/02_Datos/01_Originales/' + nombre_fichero_datos\n",
    "\n",
    "df = pd.read_csv(ruta_completa,index_col=0,sep=';')"
   ]
  },
  {
   "cell_type": "markdown",
   "id": "454738c9",
   "metadata": {},
   "source": [
    "### Seleccionar solo las variables finales"
   ]
  },
  {
   "cell_type": "markdown",
   "id": "ba546b91",
   "metadata": {},
   "source": [
    "#### Cargar la lista de variables finales"
   ]
  },
  {
   "cell_type": "code",
   "execution_count": 68,
   "id": "26066884",
   "metadata": {},
   "outputs": [
    {
     "data": {
      "text/plain": [
       "['ambito_Agentes de Carga',\n",
       " 'ambito_Exportadores',\n",
       " 'ambito_Null',\n",
       " 'fuente_Organic Search',\n",
       " 'ocupacion_Gerente de operaciones logisticas',\n",
       " 'origen_Landing Page Submission',\n",
       " 'paginas_vistas_visita_mms',\n",
       " 'score_actividad_mms',\n",
       " 'score_perfil_mms',\n",
       " 'tiempo_en_site_total_mms',\n",
       " 'ult_actividad_Chat Conversation',\n",
       " 'ult_actividad_Converted to Lead',\n",
       " 'ult_actividad_Page Visited on Website',\n",
       " 'ult_actividad_SMS Sent',\n",
       " 'visitas_total_mms']"
      ]
     },
     "execution_count": 68,
     "metadata": {},
     "output_type": "execute_result"
    }
   ],
   "source": [
    "nombre_variables_finales = ruta_proyecto + '/05_Resultados/' + 'variables_finales.pickle'\n",
    "\n",
    "pd.read_pickle(nombre_variables_finales).sort_index().index.to_list()"
   ]
  },
  {
   "cell_type": "markdown",
   "id": "9c127d9a",
   "metadata": {},
   "source": [
    "#### Apuntar (manualmente) la lista de variables finales sin extensiones"
   ]
  },
  {
   "cell_type": "code",
   "execution_count": 69,
   "id": "da477021",
   "metadata": {},
   "outputs": [],
   "source": [
    "variables_finales = ['ambito',\n",
    "                   'fuente',\n",
    "                   'ocupacion',\n",
    "                   'origen',\n",
    "                   'paginas_vistas_visita',\n",
    "                   'score_actividad',\n",
    "                   'score_perfil',\n",
    "                   'tiempo_en_site_total',\n",
    "                   'ult_actividad',\n",
    "                   'visitas_total'\n",
    "                  ]"
   ]
  },
  {
   "cell_type": "markdown",
   "id": "f81f09bf",
   "metadata": {},
   "source": [
    "#### Crear la matriz de variables procesos (excel)"
   ]
  },
  {
   "cell_type": "markdown",
   "id": "735beb13",
   "metadata": {},
   "source": [
    "Ir a la plantilla de Excel \"Fase Producción Plantilla Procesos\" y crear la matriz de variables por procesos."
   ]
  },
  {
   "cell_type": "markdown",
   "id": "ee3f31a6",
   "metadata": {},
   "source": [
    "#### Actualizar las importaciones"
   ]
  },
  {
   "cell_type": "markdown",
   "id": "80c12eea",
   "metadata": {},
   "source": [
    "Ir arriba a la celda de importacion de paquetes y actualizarlos con los que finalmente vamos a usar."
   ]
  },
  {
   "cell_type": "markdown",
   "id": "fe5a706b",
   "metadata": {},
   "source": [
    "## ESTRUCTURA DE LOS DATASETS"
   ]
  },
  {
   "cell_type": "markdown",
   "id": "a9cd9497",
   "metadata": {},
   "source": [
    "### Eliminar registros"
   ]
  },
  {
   "cell_type": "code",
   "execution_count": 70,
   "id": "8850a2eb",
   "metadata": {},
   "outputs": [
    {
     "data": {
      "text/plain": [
       "(6810, 23)"
      ]
     },
     "execution_count": 70,
     "metadata": {},
     "output_type": "execute_result"
    }
   ],
   "source": [
    "df.shape"
   ]
  },
  {
   "cell_type": "markdown",
   "id": "4af7dbab",
   "metadata": {},
   "source": [
    "#### Por duplicados"
   ]
  },
  {
   "cell_type": "code",
   "execution_count": 71,
   "id": "361fd5f0",
   "metadata": {},
   "outputs": [],
   "source": [
    "df.drop_duplicates(inplace = True)"
   ]
  },
  {
   "cell_type": "code",
   "execution_count": 72,
   "id": "ed4ad35c",
   "metadata": {},
   "outputs": [
    {
     "data": {
      "text/plain": [
       "(6785, 23)"
      ]
     },
     "execution_count": 72,
     "metadata": {},
     "output_type": "execute_result"
    }
   ],
   "source": [
    "df.shape"
   ]
  },
  {
   "cell_type": "markdown",
   "id": "f5c95cad",
   "metadata": {},
   "source": [
    "#### Por EDA"
   ]
  },
  {
   "cell_type": "code",
   "execution_count": 73,
   "id": "b53c6908",
   "metadata": {},
   "outputs": [],
   "source": [
    "df=df.loc[(df.no_llamar != 'Otros') & (df.no_enviar_email != 'Yes') & (df.ult_actividad != 'Email Bounced')]"
   ]
  },
  {
   "cell_type": "markdown",
   "id": "9f90d327",
   "metadata": {},
   "source": [
    "#### Para x"
   ]
  },
  {
   "cell_type": "markdown",
   "id": "024faf5e",
   "metadata": {},
   "source": [
    "Quedarse solo con las de la lista."
   ]
  },
  {
   "cell_type": "code",
   "execution_count": 74,
   "id": "eb115fbf",
   "metadata": {},
   "outputs": [],
   "source": [
    "x = df[variables_finales].copy()"
   ]
  },
  {
   "cell_type": "code",
   "execution_count": 75,
   "id": "e89284c9",
   "metadata": {},
   "outputs": [
    {
     "data": {
      "text/plain": [
       "(6232, 10)"
      ]
     },
     "execution_count": 75,
     "metadata": {},
     "output_type": "execute_result"
    }
   ],
   "source": [
    "x.shape"
   ]
  },
  {
   "cell_type": "markdown",
   "id": "e746ec8d",
   "metadata": {},
   "source": [
    "#### Para y"
   ]
  },
  {
   "cell_type": "markdown",
   "id": "84fd6267",
   "metadata": {},
   "source": [
    "Especificar la target."
   ]
  },
  {
   "cell_type": "code",
   "execution_count": 76,
   "id": "e8cef3f3",
   "metadata": {},
   "outputs": [],
   "source": [
    "target = 'compra'"
   ]
  },
  {
   "cell_type": "markdown",
   "id": "a11b8afe",
   "metadata": {},
   "source": [
    "Crear el y."
   ]
  },
  {
   "cell_type": "code",
   "execution_count": 77,
   "id": "d926d93f",
   "metadata": {},
   "outputs": [],
   "source": [
    "y = df[target].copy()"
   ]
  },
  {
   "cell_type": "markdown",
   "id": "99bb2255",
   "metadata": {},
   "source": [
    "## CREAR EL PIPELINE"
   ]
  },
  {
   "cell_type": "markdown",
   "id": "6d6e8fca",
   "metadata": {},
   "source": [
    "### Instanciar calidad de datos"
   ]
  },
  {
   "cell_type": "markdown",
   "id": "06178080",
   "metadata": {},
   "source": [
    "#### Crear la función"
   ]
  },
  {
   "cell_type": "code",
   "execution_count": 78,
   "id": "98177b43",
   "metadata": {},
   "outputs": [],
   "source": [
    "def calidad_datos(df):\n",
    "    temp = df.astype({'visitas_total': 'Int64'})\n",
    "    \n",
    "    temp['ambito'] = temp['ambito'].replace({\n",
    "    'SG1A – Agentes de Carga': 'Agentes de Carga',\n",
    "    'SG2A - Importadores': 'Importadores',\n",
    "    'SG2B - Exportadores': 'Exportadores',\n",
    "    'SG3 - Otros': 'Otros',\n",
    "    'SG1C – Aerolíneas': 'Aerolineas'\n",
    "    })\n",
    "    \n",
    "    def imputar_moda(variable):\n",
    "        return(variable.fillna(variable.mode()[0]))\n",
    "\n",
    "    var_imputar_moda = ['ocupacion']\n",
    "    \n",
    "    temp[var_imputar_moda] = temp[var_imputar_moda].apply(imputar_moda)\n",
    "    \n",
    "    \n",
    "    var_imputar_valor = ['origen','fuente', 'ult_actividad',\n",
    "                     'ambito']\n",
    "    valor = 'Null'\n",
    "    \n",
    "    temp[var_imputar_valor] = temp[var_imputar_valor].fillna(valor)\n",
    "    \n",
    "    \n",
    "    var_imputar_mediana = ['paginas_vistas_visita',\n",
    "                     'score_actividad',\n",
    "                     'score_perfil',\n",
    "                     'tiempo_en_site_total',\n",
    "                     'visitas_total']\n",
    "    \n",
    "    def imputar_mediana(variable):\n",
    "        if pd.api.types.is_integer_dtype(variable):\n",
    "            return(variable.fillna(int(variable.median())))\n",
    "        else:\n",
    "            return(variable.fillna(variable.median()))\n",
    "\n",
    "    temp[var_imputar_mediana] = temp[var_imputar_mediana].apply(imputar_mediana)\n",
    "    \n",
    "    def agrupar_cat_raras(variable, criterio = 0.05):\n",
    "        #Calcula las frecuencias\n",
    "        frecuencias = variable.value_counts(normalize=True)\n",
    "        #Identifica las que están por debajo del criterio\n",
    "        temp = [cada for cada in frecuencias.loc[frecuencias < criterio].index.values]\n",
    "        #Las recodifica en 'Otros'\n",
    "        temp2 = np.where(variable.isin(temp),'Otros',variable)\n",
    "        #Devuelve el resultado\n",
    "        return(temp2)\n",
    "\n",
    "    var_agrupar_cat_rars = ['ocupacion','ambito','origen','fuente','ult_actividad']\n",
    "    \n",
    "    for variable in var_imputar_moda:\n",
    "        temp[variable] = agrupar_cat_raras(temp[variable],criterio = 0.02)\n",
    "    \n",
    "    \n",
    "    temp['visitas_total']= temp['visitas_total'].clip(0,50)\n",
    "    temp['paginas_vistas_visita']= temp['paginas_vistas_visita'].clip(0,20)\n",
    "    \n",
    "    return(temp)"
   ]
  },
  {
   "cell_type": "code",
   "execution_count": 79,
   "id": "9fa2a3b6",
   "metadata": {},
   "outputs": [
    {
     "data": {
      "text/html": [
       "<div>\n",
       "<style scoped>\n",
       "    .dataframe tbody tr th:only-of-type {\n",
       "        vertical-align: middle;\n",
       "    }\n",
       "\n",
       "    .dataframe tbody tr th {\n",
       "        vertical-align: top;\n",
       "    }\n",
       "\n",
       "    .dataframe thead th {\n",
       "        text-align: right;\n",
       "    }\n",
       "</style>\n",
       "<table border=\"1\" class=\"dataframe\">\n",
       "  <thead>\n",
       "    <tr style=\"text-align: right;\">\n",
       "      <th></th>\n",
       "      <th>ambito</th>\n",
       "      <th>fuente</th>\n",
       "      <th>ocupacion</th>\n",
       "      <th>origen</th>\n",
       "      <th>paginas_vistas_visita</th>\n",
       "      <th>score_actividad</th>\n",
       "      <th>score_perfil</th>\n",
       "      <th>tiempo_en_site_total</th>\n",
       "      <th>ult_actividad</th>\n",
       "      <th>visitas_total</th>\n",
       "    </tr>\n",
       "    <tr>\n",
       "      <th>id</th>\n",
       "      <th></th>\n",
       "      <th></th>\n",
       "      <th></th>\n",
       "      <th></th>\n",
       "      <th></th>\n",
       "      <th></th>\n",
       "      <th></th>\n",
       "      <th></th>\n",
       "      <th></th>\n",
       "      <th></th>\n",
       "    </tr>\n",
       "  </thead>\n",
       "  <tbody>\n",
       "    <tr>\n",
       "      <th>660737</th>\n",
       "      <td>SG1A - Agentes de Carga</td>\n",
       "      <td>Chat</td>\n",
       "      <td>Asistente de logistica</td>\n",
       "      <td>API</td>\n",
       "      <td>0.0</td>\n",
       "      <td>15.0</td>\n",
       "      <td>15.0</td>\n",
       "      <td>0</td>\n",
       "      <td>Page Visited on Website</td>\n",
       "      <td>0</td>\n",
       "    </tr>\n",
       "    <tr>\n",
       "      <th>660728</th>\n",
       "      <td>SG1A - Agentes de Carga</td>\n",
       "      <td>Organic Search</td>\n",
       "      <td>Asistente de logistica</td>\n",
       "      <td>API</td>\n",
       "      <td>2.5</td>\n",
       "      <td>15.0</td>\n",
       "      <td>15.0</td>\n",
       "      <td>674</td>\n",
       "      <td>Email Opened</td>\n",
       "      <td>5</td>\n",
       "    </tr>\n",
       "    <tr>\n",
       "      <th>660680</th>\n",
       "      <td>Null</td>\n",
       "      <td>Chat</td>\n",
       "      <td>Asistente de logistica</td>\n",
       "      <td>API</td>\n",
       "      <td>0.0</td>\n",
       "      <td>17.0</td>\n",
       "      <td>15.0</td>\n",
       "      <td>0</td>\n",
       "      <td>Chat Conversation</td>\n",
       "      <td>0</td>\n",
       "    </tr>\n",
       "    <tr>\n",
       "      <th>660673</th>\n",
       "      <td>Importadores</td>\n",
       "      <td>Google</td>\n",
       "      <td>Asistente de logistica</td>\n",
       "      <td>Landing Page Submission</td>\n",
       "      <td>2.0</td>\n",
       "      <td>14.0</td>\n",
       "      <td>20.0</td>\n",
       "      <td>1640</td>\n",
       "      <td>Email Opened</td>\n",
       "      <td>2</td>\n",
       "    </tr>\n",
       "    <tr>\n",
       "      <th>660562</th>\n",
       "      <td>SG1A - Agentes de Carga</td>\n",
       "      <td>Organic Search</td>\n",
       "      <td>Asistente de logistica</td>\n",
       "      <td>API</td>\n",
       "      <td>11.0</td>\n",
       "      <td>16.0</td>\n",
       "      <td>16.0</td>\n",
       "      <td>1538</td>\n",
       "      <td>Email Opened</td>\n",
       "      <td>11</td>\n",
       "    </tr>\n",
       "    <tr>\n",
       "      <th>...</th>\n",
       "      <td>...</td>\n",
       "      <td>...</td>\n",
       "      <td>...</td>\n",
       "      <td>...</td>\n",
       "      <td>...</td>\n",
       "      <td>...</td>\n",
       "      <td>...</td>\n",
       "      <td>...</td>\n",
       "      <td>...</td>\n",
       "      <td>...</td>\n",
       "    </tr>\n",
       "    <tr>\n",
       "      <th>579701</th>\n",
       "      <td>Importadores</td>\n",
       "      <td>Google</td>\n",
       "      <td>Asistente de logistica</td>\n",
       "      <td>Landing Page Submission</td>\n",
       "      <td>2.0</td>\n",
       "      <td>13.0</td>\n",
       "      <td>20.0</td>\n",
       "      <td>870</td>\n",
       "      <td>Email Opened</td>\n",
       "      <td>2</td>\n",
       "    </tr>\n",
       "    <tr>\n",
       "      <th>579642</th>\n",
       "      <td>Importadores</td>\n",
       "      <td>Direct Traffic</td>\n",
       "      <td>Asistente de logistica</td>\n",
       "      <td>Landing Page Submission</td>\n",
       "      <td>2.0</td>\n",
       "      <td>14.0</td>\n",
       "      <td>20.0</td>\n",
       "      <td>1770</td>\n",
       "      <td>SMS Sent</td>\n",
       "      <td>2</td>\n",
       "    </tr>\n",
       "    <tr>\n",
       "      <th>579622</th>\n",
       "      <td>SG1A - Agentes de Carga</td>\n",
       "      <td>Direct Traffic</td>\n",
       "      <td>Asistente de logistica</td>\n",
       "      <td>API</td>\n",
       "      <td>2.6</td>\n",
       "      <td>14.0</td>\n",
       "      <td>16.0</td>\n",
       "      <td>1409</td>\n",
       "      <td>SMS Sent</td>\n",
       "      <td>13</td>\n",
       "    </tr>\n",
       "    <tr>\n",
       "      <th>579615</th>\n",
       "      <td>Otros</td>\n",
       "      <td>Direct Traffic</td>\n",
       "      <td>Asistente de logistica</td>\n",
       "      <td>Landing Page Submission</td>\n",
       "      <td>2.5</td>\n",
       "      <td>14.0</td>\n",
       "      <td>20.0</td>\n",
       "      <td>210</td>\n",
       "      <td>SMS Sent</td>\n",
       "      <td>5</td>\n",
       "    </tr>\n",
       "    <tr>\n",
       "      <th>579538</th>\n",
       "      <td>Importadores</td>\n",
       "      <td>Google</td>\n",
       "      <td>Asistente de logistica</td>\n",
       "      <td>Landing Page Submission</td>\n",
       "      <td>3.0</td>\n",
       "      <td>15.0</td>\n",
       "      <td>16.0</td>\n",
       "      <td>499</td>\n",
       "      <td>SMS Sent</td>\n",
       "      <td>3</td>\n",
       "    </tr>\n",
       "  </tbody>\n",
       "</table>\n",
       "<p>6232 rows × 10 columns</p>\n",
       "</div>"
      ],
      "text/plain": [
       "                         ambito          fuente               ocupacion  \\\n",
       "id                                                                        \n",
       "660737  SG1A - Agentes de Carga            Chat  Asistente de logistica   \n",
       "660728  SG1A - Agentes de Carga  Organic Search  Asistente de logistica   \n",
       "660680                     Null            Chat  Asistente de logistica   \n",
       "660673             Importadores          Google  Asistente de logistica   \n",
       "660562  SG1A - Agentes de Carga  Organic Search  Asistente de logistica   \n",
       "...                         ...             ...                     ...   \n",
       "579701             Importadores          Google  Asistente de logistica   \n",
       "579642             Importadores  Direct Traffic  Asistente de logistica   \n",
       "579622  SG1A - Agentes de Carga  Direct Traffic  Asistente de logistica   \n",
       "579615                    Otros  Direct Traffic  Asistente de logistica   \n",
       "579538             Importadores          Google  Asistente de logistica   \n",
       "\n",
       "                         origen  paginas_vistas_visita  score_actividad  \\\n",
       "id                                                                        \n",
       "660737                      API                    0.0             15.0   \n",
       "660728                      API                    2.5             15.0   \n",
       "660680                      API                    0.0             17.0   \n",
       "660673  Landing Page Submission                    2.0             14.0   \n",
       "660562                      API                   11.0             16.0   \n",
       "...                         ...                    ...              ...   \n",
       "579701  Landing Page Submission                    2.0             13.0   \n",
       "579642  Landing Page Submission                    2.0             14.0   \n",
       "579622                      API                    2.6             14.0   \n",
       "579615  Landing Page Submission                    2.5             14.0   \n",
       "579538  Landing Page Submission                    3.0             15.0   \n",
       "\n",
       "        score_perfil  tiempo_en_site_total            ult_actividad  \\\n",
       "id                                                                    \n",
       "660737          15.0                     0  Page Visited on Website   \n",
       "660728          15.0                   674             Email Opened   \n",
       "660680          15.0                     0        Chat Conversation   \n",
       "660673          20.0                  1640             Email Opened   \n",
       "660562          16.0                  1538             Email Opened   \n",
       "...              ...                   ...                      ...   \n",
       "579701          20.0                   870             Email Opened   \n",
       "579642          20.0                  1770                 SMS Sent   \n",
       "579622          16.0                  1409                 SMS Sent   \n",
       "579615          20.0                   210                 SMS Sent   \n",
       "579538          16.0                   499                 SMS Sent   \n",
       "\n",
       "        visitas_total  \n",
       "id                     \n",
       "660737              0  \n",
       "660728              5  \n",
       "660680              0  \n",
       "660673              2  \n",
       "660562             11  \n",
       "...               ...  \n",
       "579701              2  \n",
       "579642              2  \n",
       "579622             13  \n",
       "579615              5  \n",
       "579538              3  \n",
       "\n",
       "[6232 rows x 10 columns]"
      ]
     },
     "execution_count": 79,
     "metadata": {},
     "output_type": "execute_result"
    }
   ],
   "source": [
    "calidad_datos(x)"
   ]
  },
  {
   "cell_type": "markdown",
   "id": "95bd7490",
   "metadata": {},
   "source": [
    "#### Convertirla en transformer"
   ]
  },
  {
   "cell_type": "code",
   "execution_count": 80,
   "id": "6805f964",
   "metadata": {},
   "outputs": [],
   "source": [
    "hacer_calidad_datos = FunctionTransformer(calidad_datos)"
   ]
  },
  {
   "cell_type": "markdown",
   "id": "88e57147",
   "metadata": {},
   "source": [
    "### Instanciar transformación de variables"
   ]
  },
  {
   "cell_type": "code",
   "execution_count": 81,
   "id": "ee711664",
   "metadata": {},
   "outputs": [],
   "source": [
    "var_ohe = ['ocupacion','ambito','origen','fuente','ult_actividad']\n",
    "ohe = OneHotEncoder(sparse_output=False, handle_unknown='ignore')\n",
    "\n",
    "var_mms = ['paginas_vistas_visita','score_actividad','score_perfil','tiempo_en_site_total','visitas_total']\n",
    "mms = MinMaxScaler()"
   ]
  },
  {
   "cell_type": "markdown",
   "id": "eaf3f141",
   "metadata": {},
   "source": [
    "### Crear el pipe del preprocesamiento"
   ]
  },
  {
   "cell_type": "markdown",
   "id": "8d7b7821",
   "metadata": {},
   "source": [
    "#### Crear el column transformer"
   ]
  },
  {
   "cell_type": "code",
   "execution_count": 82,
   "id": "e577b34d",
   "metadata": {},
   "outputs": [],
   "source": [
    "ct = make_column_transformer(\n",
    "    (ohe, var_ohe),\n",
    "    (mms, var_mms),\n",
    "    remainder='drop')"
   ]
  },
  {
   "cell_type": "markdown",
   "id": "5de30e37",
   "metadata": {},
   "source": [
    "#### Crear el pipeline del preprocesamiento"
   ]
  },
  {
   "cell_type": "code",
   "execution_count": 83,
   "id": "54e1300d",
   "metadata": {},
   "outputs": [],
   "source": [
    "pipe_prepro = make_pipeline(hacer_calidad_datos, \n",
    "                            ct)"
   ]
  },
  {
   "cell_type": "markdown",
   "id": "d4b08601",
   "metadata": {},
   "source": [
    "### Instanciar el modelo"
   ]
  },
  {
   "cell_type": "markdown",
   "id": "b64c9e60",
   "metadata": {},
   "source": [
    "#### Instanciar el algoritmo"
   ]
  },
  {
   "cell_type": "code",
   "execution_count": 84,
   "id": "8b2e752d",
   "metadata": {},
   "outputs": [],
   "source": [
    "modelo = XGBClassifier(n_jobs = -1, \n",
    "                       verbosity = 0,\n",
    "                       learning_rate = 0.05,\n",
    "                       max_depth = 5,\n",
    "                       reg_alpha = 1,\n",
    "                       reg_lambda = 1,\n",
    "                       n_estimators = 100,\n",
    "                       use_label_encoder=False\n",
    "                       )"
   ]
  },
  {
   "cell_type": "markdown",
   "id": "80f8e2f3",
   "metadata": {},
   "source": [
    "#### Crear el pipe final de entrenamiento"
   ]
  },
  {
   "cell_type": "code",
   "execution_count": 85,
   "id": "0efb038b",
   "metadata": {},
   "outputs": [],
   "source": [
    "pipe_entrenamiento = make_pipeline(pipe_prepro,modelo)"
   ]
  },
  {
   "cell_type": "markdown",
   "id": "cb0700d8",
   "metadata": {},
   "source": [
    "#### Guardar el pipe final de entrenamiento"
   ]
  },
  {
   "cell_type": "code",
   "execution_count": 86,
   "id": "71715e9c",
   "metadata": {},
   "outputs": [],
   "source": [
    "nombre_pipe_entrenamiento = 'pipe_entrenamiento.pickle'\n",
    "\n",
    "ruta_pipe_entrenamiento = ruta_proyecto + '/04_Modelos/' + nombre_pipe_entrenamiento\n",
    "\n",
    "with open(ruta_pipe_entrenamiento, mode='wb') as file:\n",
    "   cloudpickle.dump(pipe_entrenamiento, file)"
   ]
  },
  {
   "cell_type": "markdown",
   "id": "2c7e5ed1",
   "metadata": {},
   "source": [
    "#### Entrenar el pipe final de ejecución"
   ]
  },
  {
   "cell_type": "code",
   "execution_count": 87,
   "id": "13ca2db6",
   "metadata": {},
   "outputs": [],
   "source": [
    "pipe_ejecucion = pipe_entrenamiento.fit(x,y)"
   ]
  },
  {
   "cell_type": "markdown",
   "id": "52e506db",
   "metadata": {},
   "source": [
    "## GUARDAR EL PIPE"
   ]
  },
  {
   "cell_type": "markdown",
   "id": "86a5de63",
   "metadata": {},
   "source": [
    "### Nombre del pipe final de ejecución"
   ]
  },
  {
   "cell_type": "code",
   "execution_count": 88,
   "id": "967c6480",
   "metadata": {},
   "outputs": [],
   "source": [
    "nombre_pipe_ejecucion = 'pipe_ejecucion.pickle'"
   ]
  },
  {
   "cell_type": "markdown",
   "id": "afba8bc8",
   "metadata": {},
   "source": [
    "### Guardar el pipe final de ejecución"
   ]
  },
  {
   "cell_type": "code",
   "execution_count": 89,
   "id": "1dda8f25",
   "metadata": {},
   "outputs": [],
   "source": [
    "ruta_pipe_ejecucion = ruta_proyecto + '/04_Modelos/' + nombre_pipe_ejecucion\n",
    "\n",
    "with open(ruta_pipe_ejecucion, mode='wb') as file:\n",
    "   cloudpickle.dump(pipe_ejecucion, file)"
   ]
  }
 ],
 "metadata": {
  "kernelspec": {
   "display_name": "Python 3 (ipykernel)",
   "language": "python",
   "name": "python3"
  },
  "language_info": {
   "codemirror_mode": {
    "name": "ipython",
    "version": 3
   },
   "file_extension": ".py",
   "mimetype": "text/x-python",
   "name": "python",
   "nbconvert_exporter": "python",
   "pygments_lexer": "ipython3",
   "version": "3.12.3"
  },
  "toc": {
   "base_numbering": 1,
   "nav_menu": {},
   "number_sections": true,
   "sideBar": true,
   "skip_h1_title": false,
   "title_cell": "Table of Contents",
   "title_sidebar": "Contents",
   "toc_cell": false,
   "toc_position": {
    "height": "calc(100% - 180px)",
    "left": "10px",
    "top": "150px",
    "width": "383.367px"
   },
   "toc_section_display": true,
   "toc_window_display": true
  },
  "varInspector": {
   "cols": {
    "lenName": 16,
    "lenType": 16,
    "lenVar": 40
   },
   "kernels_config": {
    "python": {
     "delete_cmd_postfix": "",
     "delete_cmd_prefix": "del ",
     "library": "var_list.py",
     "varRefreshCmd": "print(var_dic_list())"
    },
    "r": {
     "delete_cmd_postfix": ") ",
     "delete_cmd_prefix": "rm(",
     "library": "var_list.r",
     "varRefreshCmd": "cat(var_dic_list()) "
    }
   },
   "types_to_exclude": [
    "module",
    "function",
    "builtin_function_or_method",
    "instance",
    "_Feature"
   ],
   "window_display": false
  }
 },
 "nbformat": 4,
 "nbformat_minor": 5
}
